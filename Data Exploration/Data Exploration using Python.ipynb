{
 "cells": [
  {
   "cell_type": "markdown",
   "id": "87fdcb6e-4d78-4756-937f-484aff90e64c",
   "metadata": {},
   "source": [
    "# Data Exploration with Python"
   ]
  },
  {
   "cell_type": "code",
   "execution_count": 1,
   "id": "7a4e2ae4-7403-4787-b7e1-7153500d1444",
   "metadata": {},
   "outputs": [],
   "source": [
    "import numpy as np"
   ]
  },
  {
   "cell_type": "markdown",
   "id": "87f1e08c-e87c-4b22-8d44-f83a1f455df6",
   "metadata": {},
   "source": [
    "**<h1>Question 1.</h1>** <br> Proposer un algorithme qui regroupe tous les nombres pairs du tableau à la partie\n",
    "gauche du tableau. Il serait facile d’utiliser deux indices : un indice i qui pointe sur le nombre\n",
    "impair le plus à gauche (en tenant compte de permutations qui ont déjà eu lieu) et un deuxième\n",
    "indice j qui cherche le prochain nombre pair à déplacer. Quand i pointe sur un nombre impair et\n",
    "j pointe sur un nombre pair, les deux éléments du tableau sont permutés. En d’autres termes, il\n",
    "n’y a permutation que lorsque j pointe sur un nombre pair."
   ]
  },
  {
   "cell_type": "code",
   "execution_count": 2,
   "id": "c7c65753-2cd4-46e8-a6ca-e4f2c98d9fe9",
   "metadata": {},
   "outputs": [],
   "source": [
    "#Nous generons un tableau de 500 valeurs\n",
    "tableau_nombre=[ x+1 for x in range(500)]\n",
    "#Creation implicite du teabl\n",
    "splitted_tableau=[]"
   ]
  },
  {
   "cell_type": "code",
   "execution_count": 3,
   "id": "306adc7d-97d0-4537-b35c-2fe8dc4278c6",
   "metadata": {},
   "outputs": [],
   "source": [
    "# L'arlorightme parcours \n",
    "for key,value in enumerate(tableau_nombre):\n",
    "    if(key%2 > 0):\n",
    "        splitted_tableau.append([tableau_nombre[key],0])\n",
    "    else:\n",
    "        splitted_tableau.append([0,tableau_nombre[key]])"
   ]
  },
  {
   "cell_type": "code",
   "execution_count": 4,
   "id": "9f7bd018-1190-4765-b5a6-c27e3109cd44",
   "metadata": {},
   "outputs": [
    {
     "data": {
      "text/plain": [
       "[[0, 1], [2, 0], [0, 3], [4, 0], [0, 5]]"
      ]
     },
     "execution_count": 4,
     "metadata": {},
     "output_type": "execute_result"
    }
   ],
   "source": [
    "splitted_tableau[0:5]"
   ]
  },
  {
   "cell_type": "markdown",
   "id": "522f4b98-8f79-4fbd-b43b-9c639c69957f",
   "metadata": {},
   "source": [
    "**<h1>Question 2. Soit la description des salaires des data scientistes suivante:</h1>**<br>\n",
    "Column Description <br>\n",
    "**work_year**: The year the salary was paid.<br>\n",
    "**experience_level** : The experience level in the job during the year with the following possible values: EN Entry-level / Junior MI Mid-level /\n",
    "Intermediate SE Senior-level / Expert EX Executive-level / Director<br>\n",
    "**employment_type** :  The type of employement for the role: PT Part-time FT Full-time CT Contract FL Freelance<br>\n",
    "**job_title** : The role worked in during the year.<br>\n",
    "**salary** : The total gross salary amount paid.<br>\n",
    "**salary_currency** :  The currency of the salary paid as an ISO 4217 currency code.<br>\n",
    "**employee_residence** :  Employee's primary country of residence in during the work year as an ISO 3166 country code.<br>\n",
    "**remote_ratio** :  The overall amount of work done remotely, possible values are as follows: 0, No remote work (less than 20%) 50 Partially remote 100 Fully remote (more than 80%)<br>\n",
    "**company_location** :  The country of the employer's main office or contracting branch as an ISO 3166 country code.<br>\n",
    "**company_size** :  The average number of people that worked for the company during the year: S / less than 50 employees (small) M 50 to 250 employees (medium) L more than 250 employees (large)<br>\n"
   ]
  },
  {
   "cell_type": "markdown",
   "id": "0f035b7c-4ab6-43f6-a6c6-303ce687dd39",
   "metadata": {},
   "source": [
    "**1. Décrire ce dataset (explications textuelles)**"
   ]
  },
  {
   "cell_type": "markdown",
   "id": "76680aea-e9ef-43c3-abb4-d4c734fb6a33",
   "metadata": {},
   "source": [
    "Il s'agit d'un dataset qui nous donne le salaire moyen annuel des agents par pays, par origine des employés, par emploi type, par type de contrat, par taille d'entreprise, par mode de travail (télé travail ou presentiel) et par experience des employés"
   ]
  },
  {
   "cell_type": "markdown",
   "id": "f71d9448-201e-45dc-93bd-4609563340cb",
   "metadata": {},
   "source": [
    "**2. Fusionner les trois fichiers de datasets (ds_salaries_2020.csv, ds_salaries_2021.csv\n",
    "et ds_salaries_2022.csv).**"
   ]
  },
  {
   "cell_type": "code",
   "execution_count": 5,
   "id": "4081018a-a9bb-45ef-b0ad-007637923c45",
   "metadata": {},
   "outputs": [],
   "source": [
    "import pandas as pd"
   ]
  },
  {
   "cell_type": "code",
   "execution_count": 6,
   "id": "91befdb3-3a42-4cd1-b664-7114b2ada36f",
   "metadata": {},
   "outputs": [
    {
     "data": {
      "text/html": [
       "<div>\n",
       "<style scoped>\n",
       "    .dataframe tbody tr th:only-of-type {\n",
       "        vertical-align: middle;\n",
       "    }\n",
       "\n",
       "    .dataframe tbody tr th {\n",
       "        vertical-align: top;\n",
       "    }\n",
       "\n",
       "    .dataframe thead th {\n",
       "        text-align: right;\n",
       "    }\n",
       "</style>\n",
       "<table border=\"1\" class=\"dataframe\">\n",
       "  <thead>\n",
       "    <tr style=\"text-align: right;\">\n",
       "      <th></th>\n",
       "      <th>Unnamed: 0</th>\n",
       "      <th>work_year</th>\n",
       "      <th>salary</th>\n",
       "      <th>remote_ratio</th>\n",
       "    </tr>\n",
       "  </thead>\n",
       "  <tbody>\n",
       "    <tr>\n",
       "      <th>count</th>\n",
       "      <td>607.000000</td>\n",
       "      <td>607.000000</td>\n",
       "      <td>6.050000e+02</td>\n",
       "      <td>607.00000</td>\n",
       "    </tr>\n",
       "    <tr>\n",
       "      <th>mean</th>\n",
       "      <td>303.000000</td>\n",
       "      <td>2021.405272</td>\n",
       "      <td>3.248959e+05</td>\n",
       "      <td>70.92257</td>\n",
       "    </tr>\n",
       "    <tr>\n",
       "      <th>std</th>\n",
       "      <td>175.370085</td>\n",
       "      <td>0.692133</td>\n",
       "      <td>1.546831e+06</td>\n",
       "      <td>40.70913</td>\n",
       "    </tr>\n",
       "    <tr>\n",
       "      <th>min</th>\n",
       "      <td>0.000000</td>\n",
       "      <td>2020.000000</td>\n",
       "      <td>4.000000e+03</td>\n",
       "      <td>0.00000</td>\n",
       "    </tr>\n",
       "    <tr>\n",
       "      <th>25%</th>\n",
       "      <td>151.500000</td>\n",
       "      <td>2021.000000</td>\n",
       "      <td>7.000000e+04</td>\n",
       "      <td>50.00000</td>\n",
       "    </tr>\n",
       "    <tr>\n",
       "      <th>50%</th>\n",
       "      <td>303.000000</td>\n",
       "      <td>2022.000000</td>\n",
       "      <td>1.150000e+05</td>\n",
       "      <td>100.00000</td>\n",
       "    </tr>\n",
       "    <tr>\n",
       "      <th>75%</th>\n",
       "      <td>454.500000</td>\n",
       "      <td>2022.000000</td>\n",
       "      <td>1.650000e+05</td>\n",
       "      <td>100.00000</td>\n",
       "    </tr>\n",
       "    <tr>\n",
       "      <th>max</th>\n",
       "      <td>606.000000</td>\n",
       "      <td>2022.000000</td>\n",
       "      <td>3.040000e+07</td>\n",
       "      <td>100.00000</td>\n",
       "    </tr>\n",
       "  </tbody>\n",
       "</table>\n",
       "</div>"
      ],
      "text/plain": [
       "       Unnamed: 0    work_year        salary  remote_ratio\n",
       "count  607.000000   607.000000  6.050000e+02     607.00000\n",
       "mean   303.000000  2021.405272  3.248959e+05      70.92257\n",
       "std    175.370085     0.692133  1.546831e+06      40.70913\n",
       "min      0.000000  2020.000000  4.000000e+03       0.00000\n",
       "25%    151.500000  2021.000000  7.000000e+04      50.00000\n",
       "50%    303.000000  2022.000000  1.150000e+05     100.00000\n",
       "75%    454.500000  2022.000000  1.650000e+05     100.00000\n",
       "max    606.000000  2022.000000  3.040000e+07     100.00000"
      ]
     },
     "execution_count": 6,
     "metadata": {},
     "output_type": "execute_result"
    }
   ],
   "source": [
    "#Fusion à l'exportation\n",
    "\n",
    "df_salaries=pd.concat(\n",
    "    map(pd.read_csv,[\"Dataset/ds_salaries_2020.csv\",\"Dataset/ds_salaries_2021.csv\",\"Dataset/ds_salaries_2022.csv\"]),ignore_index=True)\n",
    "\n",
    "\n",
    "df_salaries.describe()"
   ]
  },
  {
   "cell_type": "code",
   "execution_count": 7,
   "id": "ca30fbe2-077b-480f-9e08-cc1a8eba37b6",
   "metadata": {},
   "outputs": [
    {
     "name": "stdout",
     "output_type": "stream",
     "text": [
      "Les colonnes :  Index(['Unnamed: 0', 'work_year', 'experience_level', 'employment_type',\n",
      "       'job_title', 'salary', 'salary_currency', 'employee_residence',\n",
      "       'remote_ratio', 'company_location', 'company_size'],\n",
      "      dtype='object')\n"
     ]
    }
   ],
   "source": [
    "print(\"Les colonnes : \",df_salaries.columns)"
   ]
  },
  {
   "cell_type": "markdown",
   "id": "4fe5da56-c759-4886-9a2b-a0a66dcf167d",
   "metadata": {},
   "source": [
    "**3. Grouper les salaires par année, par job_title et par pays (afficher les salaires moyens comme agrégats).**"
   ]
  },
  {
   "cell_type": "code",
   "execution_count": 8,
   "id": "d4e2c8e7-e2f0-4de9-87f6-0685e856a2d8",
   "metadata": {},
   "outputs": [],
   "source": [
    "df_salaries_group_A=df_salaries.groupby([\"work_year\",\"job_title\",\"company_location\"])"
   ]
  },
  {
   "cell_type": "code",
   "execution_count": 9,
   "id": "ae9109fa-e287-4fa3-9f0e-2b199fff3581",
   "metadata": {},
   "outputs": [
    {
     "data": {
      "text/plain": [
       "work_year  job_title                 company_location\n",
       "2020       AI Scientist              DK                  300000.0\n",
       "           BI Data Analyst           US                       NaN\n",
       "           Big Data Engineer         GB                   92500.0\n",
       "                                     US                   70000.0\n",
       "           Business Data Analyst     US                  117500.0\n",
       "                                                           ...   \n",
       "2022       Principal Data Analyst    CA                   75000.0\n",
       "           Principal Data Scientist  DE                  148000.0\n",
       "           Research Scientist        AT                   59000.0\n",
       "                                     FR                   85000.0\n",
       "                                     US                  132000.0\n",
       "Name: salary, Length: 228, dtype: float64"
      ]
     },
     "execution_count": 9,
     "metadata": {},
     "output_type": "execute_result"
    }
   ],
   "source": [
    "df_salaries_group_A.mean(\"salary\")[\"salary\"]"
   ]
  },
  {
   "cell_type": "markdown",
   "id": "1b9e3289-6fde-4857-8e5e-8bbf5eaa8d1d",
   "metadata": {},
   "source": [
    "**4. Obtenir les data analyst et les data engineer des USA et la France en 2022.**"
   ]
  },
  {
   "cell_type": "code",
   "execution_count": 10,
   "id": "707016bf-26a8-4792-ac13-7dde97060051",
   "metadata": {},
   "outputs": [
    {
     "data": {
      "text/html": [
       "<div>\n",
       "<style scoped>\n",
       "    .dataframe tbody tr th:only-of-type {\n",
       "        vertical-align: middle;\n",
       "    }\n",
       "\n",
       "    .dataframe tbody tr th {\n",
       "        vertical-align: top;\n",
       "    }\n",
       "\n",
       "    .dataframe thead th {\n",
       "        text-align: right;\n",
       "    }\n",
       "</style>\n",
       "<table border=\"1\" class=\"dataframe\">\n",
       "  <thead>\n",
       "    <tr style=\"text-align: right;\">\n",
       "      <th></th>\n",
       "      <th>Unnamed: 0</th>\n",
       "      <th>work_year</th>\n",
       "      <th>experience_level</th>\n",
       "      <th>employment_type</th>\n",
       "      <th>job_title</th>\n",
       "      <th>salary</th>\n",
       "      <th>salary_currency</th>\n",
       "      <th>employee_residence</th>\n",
       "      <th>remote_ratio</th>\n",
       "      <th>company_location</th>\n",
       "      <th>company_size</th>\n",
       "    </tr>\n",
       "  </thead>\n",
       "  <tbody>\n",
       "    <tr>\n",
       "      <th>289</th>\n",
       "      <td>289</td>\n",
       "      <td>2022</td>\n",
       "      <td>SE</td>\n",
       "      <td>FT</td>\n",
       "      <td>Data Engineer</td>\n",
       "      <td>135000.0</td>\n",
       "      <td>USD</td>\n",
       "      <td>US</td>\n",
       "      <td>100</td>\n",
       "      <td>US</td>\n",
       "      <td>M</td>\n",
       "    </tr>\n",
       "    <tr>\n",
       "      <th>292</th>\n",
       "      <td>292</td>\n",
       "      <td>2022</td>\n",
       "      <td>MI</td>\n",
       "      <td>FT</td>\n",
       "      <td>Data Scientist</td>\n",
       "      <td>130000.0</td>\n",
       "      <td>USD</td>\n",
       "      <td>US</td>\n",
       "      <td>0</td>\n",
       "      <td>US</td>\n",
       "      <td>M</td>\n",
       "    </tr>\n",
       "    <tr>\n",
       "      <th>293</th>\n",
       "      <td>293</td>\n",
       "      <td>2022</td>\n",
       "      <td>MI</td>\n",
       "      <td>FT</td>\n",
       "      <td>Data Scientist</td>\n",
       "      <td>90000.0</td>\n",
       "      <td>USD</td>\n",
       "      <td>US</td>\n",
       "      <td>0</td>\n",
       "      <td>US</td>\n",
       "      <td>M</td>\n",
       "    </tr>\n",
       "    <tr>\n",
       "      <th>294</th>\n",
       "      <td>294</td>\n",
       "      <td>2022</td>\n",
       "      <td>MI</td>\n",
       "      <td>FT</td>\n",
       "      <td>Data Engineer</td>\n",
       "      <td>170000.0</td>\n",
       "      <td>USD</td>\n",
       "      <td>US</td>\n",
       "      <td>100</td>\n",
       "      <td>US</td>\n",
       "      <td>M</td>\n",
       "    </tr>\n",
       "    <tr>\n",
       "      <th>295</th>\n",
       "      <td>295</td>\n",
       "      <td>2022</td>\n",
       "      <td>MI</td>\n",
       "      <td>FT</td>\n",
       "      <td>Data Engineer</td>\n",
       "      <td>150000.0</td>\n",
       "      <td>USD</td>\n",
       "      <td>US</td>\n",
       "      <td>100</td>\n",
       "      <td>US</td>\n",
       "      <td>M</td>\n",
       "    </tr>\n",
       "    <tr>\n",
       "      <th>...</th>\n",
       "      <td>...</td>\n",
       "      <td>...</td>\n",
       "      <td>...</td>\n",
       "      <td>...</td>\n",
       "      <td>...</td>\n",
       "      <td>...</td>\n",
       "      <td>...</td>\n",
       "      <td>...</td>\n",
       "      <td>...</td>\n",
       "      <td>...</td>\n",
       "      <td>...</td>\n",
       "    </tr>\n",
       "    <tr>\n",
       "      <th>596</th>\n",
       "      <td>596</td>\n",
       "      <td>2022</td>\n",
       "      <td>SE</td>\n",
       "      <td>FT</td>\n",
       "      <td>Data Scientist</td>\n",
       "      <td>210000.0</td>\n",
       "      <td>USD</td>\n",
       "      <td>US</td>\n",
       "      <td>100</td>\n",
       "      <td>US</td>\n",
       "      <td>M</td>\n",
       "    </tr>\n",
       "    <tr>\n",
       "      <th>598</th>\n",
       "      <td>598</td>\n",
       "      <td>2022</td>\n",
       "      <td>MI</td>\n",
       "      <td>FT</td>\n",
       "      <td>Data Scientist</td>\n",
       "      <td>160000.0</td>\n",
       "      <td>USD</td>\n",
       "      <td>US</td>\n",
       "      <td>100</td>\n",
       "      <td>US</td>\n",
       "      <td>M</td>\n",
       "    </tr>\n",
       "    <tr>\n",
       "      <th>599</th>\n",
       "      <td>599</td>\n",
       "      <td>2022</td>\n",
       "      <td>MI</td>\n",
       "      <td>FT</td>\n",
       "      <td>Data Scientist</td>\n",
       "      <td>130000.0</td>\n",
       "      <td>USD</td>\n",
       "      <td>US</td>\n",
       "      <td>100</td>\n",
       "      <td>US</td>\n",
       "      <td>M</td>\n",
       "    </tr>\n",
       "    <tr>\n",
       "      <th>602</th>\n",
       "      <td>602</td>\n",
       "      <td>2022</td>\n",
       "      <td>SE</td>\n",
       "      <td>FT</td>\n",
       "      <td>Data Engineer</td>\n",
       "      <td>154000.0</td>\n",
       "      <td>USD</td>\n",
       "      <td>US</td>\n",
       "      <td>100</td>\n",
       "      <td>US</td>\n",
       "      <td>M</td>\n",
       "    </tr>\n",
       "    <tr>\n",
       "      <th>603</th>\n",
       "      <td>603</td>\n",
       "      <td>2022</td>\n",
       "      <td>SE</td>\n",
       "      <td>FT</td>\n",
       "      <td>Data Engineer</td>\n",
       "      <td>126000.0</td>\n",
       "      <td>USD</td>\n",
       "      <td>US</td>\n",
       "      <td>100</td>\n",
       "      <td>US</td>\n",
       "      <td>M</td>\n",
       "    </tr>\n",
       "  </tbody>\n",
       "</table>\n",
       "<p>125 rows × 11 columns</p>\n",
       "</div>"
      ],
      "text/plain": [
       "     Unnamed: 0  work_year experience_level employment_type       job_title  \\\n",
       "289         289       2022               SE              FT   Data Engineer   \n",
       "292         292       2022               MI              FT  Data Scientist   \n",
       "293         293       2022               MI              FT  Data Scientist   \n",
       "294         294       2022               MI              FT   Data Engineer   \n",
       "295         295       2022               MI              FT   Data Engineer   \n",
       "..          ...        ...              ...             ...             ...   \n",
       "596         596       2022               SE              FT  Data Scientist   \n",
       "598         598       2022               MI              FT  Data Scientist   \n",
       "599         599       2022               MI              FT  Data Scientist   \n",
       "602         602       2022               SE              FT   Data Engineer   \n",
       "603         603       2022               SE              FT   Data Engineer   \n",
       "\n",
       "       salary salary_currency employee_residence  remote_ratio  \\\n",
       "289  135000.0             USD                 US           100   \n",
       "292  130000.0             USD                 US             0   \n",
       "293   90000.0             USD                 US             0   \n",
       "294  170000.0             USD                 US           100   \n",
       "295  150000.0             USD                 US           100   \n",
       "..        ...             ...                ...           ...   \n",
       "596  210000.0             USD                 US           100   \n",
       "598  160000.0             USD                 US           100   \n",
       "599  130000.0             USD                 US           100   \n",
       "602  154000.0             USD                 US           100   \n",
       "603  126000.0             USD                 US           100   \n",
       "\n",
       "    company_location company_size  \n",
       "289               US            M  \n",
       "292               US            M  \n",
       "293               US            M  \n",
       "294               US            M  \n",
       "295               US            M  \n",
       "..               ...          ...  \n",
       "596               US            M  \n",
       "598               US            M  \n",
       "599               US            M  \n",
       "602               US            M  \n",
       "603               US            M  \n",
       "\n",
       "[125 rows x 11 columns]"
      ]
     },
     "execution_count": 10,
     "metadata": {},
     "output_type": "execute_result"
    }
   ],
   "source": [
    "df_salaries.query(\" (job_title=='Data Scientist' or job_title=='Data Engineer') and (company_location=='US' or company_location=='FR') and work_year==2022 \")"
   ]
  },
  {
   "cell_type": "markdown",
   "id": "ebe11b35-1c77-4c91-b475-7611ff0f4aea",
   "metadata": {},
   "source": [
    "**5. Numériser les données non numériques du dataset.**"
   ]
  },
  {
   "cell_type": "code",
   "execution_count": 11,
   "id": "571f57de-4363-43fb-9844-6ad0037f168e",
   "metadata": {},
   "outputs": [
    {
     "data": {
      "text/plain": [
       "['experience_level',\n",
       " 'employment_type',\n",
       " 'job_title',\n",
       " 'salary_currency',\n",
       " 'employee_residence',\n",
       " 'company_location',\n",
       " 'company_size']"
      ]
     },
     "execution_count": 11,
     "metadata": {},
     "output_type": "execute_result"
    }
   ],
   "source": [
    "columns_non_numeric=[]\n",
    "for k, v  in zip (df_salaries.columns, df_salaries.dtypes):\n",
    "    if v==\"object\":\n",
    "        columns_non_numeric.append(k)\n",
    "\n",
    "columns_non_numeric"
   ]
  },
  {
   "cell_type": "code",
   "execution_count": 12,
   "id": "6b1bced6-a365-4102-ab39-6f4a34061cd3",
   "metadata": {},
   "outputs": [
    {
     "data": {
      "text/html": [
       "<div>\n",
       "<style scoped>\n",
       "    .dataframe tbody tr th:only-of-type {\n",
       "        vertical-align: middle;\n",
       "    }\n",
       "\n",
       "    .dataframe tbody tr th {\n",
       "        vertical-align: top;\n",
       "    }\n",
       "\n",
       "    .dataframe thead th {\n",
       "        text-align: right;\n",
       "    }\n",
       "</style>\n",
       "<table border=\"1\" class=\"dataframe\">\n",
       "  <thead>\n",
       "    <tr style=\"text-align: right;\">\n",
       "      <th></th>\n",
       "      <th>work_year</th>\n",
       "      <th>salary</th>\n",
       "      <th>experience_level</th>\n",
       "      <th>employment_type</th>\n",
       "      <th>job_title</th>\n",
       "      <th>salary_currency</th>\n",
       "      <th>employee_residence</th>\n",
       "      <th>company_location</th>\n",
       "      <th>company_size</th>\n",
       "    </tr>\n",
       "  </thead>\n",
       "  <tbody>\n",
       "    <tr>\n",
       "      <th>0</th>\n",
       "      <td>2020</td>\n",
       "      <td>70000.0</td>\n",
       "      <td>2.0</td>\n",
       "      <td>2.0</td>\n",
       "      <td>22.0</td>\n",
       "      <td>7.0</td>\n",
       "      <td>14.0</td>\n",
       "      <td>12.0</td>\n",
       "      <td>0.0</td>\n",
       "    </tr>\n",
       "    <tr>\n",
       "      <th>1</th>\n",
       "      <td>2020</td>\n",
       "      <td>260000.0</td>\n",
       "      <td>4.0</td>\n",
       "      <td>2.0</td>\n",
       "      <td>41.0</td>\n",
       "      <td>16.0</td>\n",
       "      <td>32.0</td>\n",
       "      <td>29.0</td>\n",
       "      <td>2.0</td>\n",
       "    </tr>\n",
       "    <tr>\n",
       "      <th>2</th>\n",
       "      <td>2020</td>\n",
       "      <td>85000.0</td>\n",
       "      <td>4.0</td>\n",
       "      <td>2.0</td>\n",
       "      <td>7.0</td>\n",
       "      <td>8.0</td>\n",
       "      <td>20.0</td>\n",
       "      <td>18.0</td>\n",
       "      <td>1.0</td>\n",
       "    </tr>\n",
       "    <tr>\n",
       "      <th>3</th>\n",
       "      <td>2020</td>\n",
       "      <td>20000.0</td>\n",
       "      <td>2.0</td>\n",
       "      <td>2.0</td>\n",
       "      <td>48.0</td>\n",
       "      <td>16.0</td>\n",
       "      <td>23.0</td>\n",
       "      <td>20.0</td>\n",
       "      <td>2.0</td>\n",
       "    </tr>\n",
       "    <tr>\n",
       "      <th>4</th>\n",
       "      <td>2020</td>\n",
       "      <td>150000.0</td>\n",
       "      <td>4.0</td>\n",
       "      <td>2.0</td>\n",
       "      <td>38.0</td>\n",
       "      <td>16.0</td>\n",
       "      <td>56.0</td>\n",
       "      <td>49.0</td>\n",
       "      <td>0.0</td>\n",
       "    </tr>\n",
       "    <tr>\n",
       "      <th>...</th>\n",
       "      <td>...</td>\n",
       "      <td>...</td>\n",
       "      <td>...</td>\n",
       "      <td>...</td>\n",
       "      <td>...</td>\n",
       "      <td>...</td>\n",
       "      <td>...</td>\n",
       "      <td>...</td>\n",
       "      <td>...</td>\n",
       "    </tr>\n",
       "    <tr>\n",
       "      <th>602</th>\n",
       "      <td>2022</td>\n",
       "      <td>154000.0</td>\n",
       "      <td>4.0</td>\n",
       "      <td>2.0</td>\n",
       "      <td>17.0</td>\n",
       "      <td>16.0</td>\n",
       "      <td>56.0</td>\n",
       "      <td>49.0</td>\n",
       "      <td>1.0</td>\n",
       "    </tr>\n",
       "    <tr>\n",
       "      <th>603</th>\n",
       "      <td>2022</td>\n",
       "      <td>126000.0</td>\n",
       "      <td>4.0</td>\n",
       "      <td>2.0</td>\n",
       "      <td>17.0</td>\n",
       "      <td>16.0</td>\n",
       "      <td>56.0</td>\n",
       "      <td>49.0</td>\n",
       "      <td>1.0</td>\n",
       "    </tr>\n",
       "    <tr>\n",
       "      <th>604</th>\n",
       "      <td>2022</td>\n",
       "      <td>129000.0</td>\n",
       "      <td>4.0</td>\n",
       "      <td>2.0</td>\n",
       "      <td>12.0</td>\n",
       "      <td>16.0</td>\n",
       "      <td>56.0</td>\n",
       "      <td>49.0</td>\n",
       "      <td>1.0</td>\n",
       "    </tr>\n",
       "    <tr>\n",
       "      <th>605</th>\n",
       "      <td>2022</td>\n",
       "      <td>150000.0</td>\n",
       "      <td>4.0</td>\n",
       "      <td>2.0</td>\n",
       "      <td>12.0</td>\n",
       "      <td>16.0</td>\n",
       "      <td>56.0</td>\n",
       "      <td>49.0</td>\n",
       "      <td>1.0</td>\n",
       "    </tr>\n",
       "    <tr>\n",
       "      <th>606</th>\n",
       "      <td>2022</td>\n",
       "      <td>200000.0</td>\n",
       "      <td>2.0</td>\n",
       "      <td>2.0</td>\n",
       "      <td>1.0</td>\n",
       "      <td>16.0</td>\n",
       "      <td>27.0</td>\n",
       "      <td>49.0</td>\n",
       "      <td>0.0</td>\n",
       "    </tr>\n",
       "  </tbody>\n",
       "</table>\n",
       "<p>607 rows × 9 columns</p>\n",
       "</div>"
      ],
      "text/plain": [
       "     work_year    salary  experience_level  employment_type  job_title  \\\n",
       "0         2020   70000.0               2.0              2.0       22.0   \n",
       "1         2020  260000.0               4.0              2.0       41.0   \n",
       "2         2020   85000.0               4.0              2.0        7.0   \n",
       "3         2020   20000.0               2.0              2.0       48.0   \n",
       "4         2020  150000.0               4.0              2.0       38.0   \n",
       "..         ...       ...               ...              ...        ...   \n",
       "602       2022  154000.0               4.0              2.0       17.0   \n",
       "603       2022  126000.0               4.0              2.0       17.0   \n",
       "604       2022  129000.0               4.0              2.0       12.0   \n",
       "605       2022  150000.0               4.0              2.0       12.0   \n",
       "606       2022  200000.0               2.0              2.0        1.0   \n",
       "\n",
       "     salary_currency  employee_residence  company_location  company_size  \n",
       "0                7.0                14.0              12.0           0.0  \n",
       "1               16.0                32.0              29.0           2.0  \n",
       "2                8.0                20.0              18.0           1.0  \n",
       "3               16.0                23.0              20.0           2.0  \n",
       "4               16.0                56.0              49.0           0.0  \n",
       "..               ...                 ...               ...           ...  \n",
       "602             16.0                56.0              49.0           1.0  \n",
       "603             16.0                56.0              49.0           1.0  \n",
       "604             16.0                56.0              49.0           1.0  \n",
       "605             16.0                56.0              49.0           1.0  \n",
       "606             16.0                27.0              49.0           0.0  \n",
       "\n",
       "[607 rows x 9 columns]"
      ]
     },
     "execution_count": 12,
     "metadata": {},
     "output_type": "execute_result"
    }
   ],
   "source": [
    "#Les données non numerique sont soit null, soit na \n",
    "#Nous importons la librairie OneHotEncoder\n",
    "from  sklearn.preprocessing import OrdinalEncoder\n",
    "\n",
    "enc=OrdinalEncoder()\n",
    "df_salaries_numerical=df_salaries[[\"work_year\",\"salary\"]]\n",
    "df_salaries_categorical=df_salaries[[\"experience_level\",\"employment_type\",\"job_title\",\"salary_currency\",\"employee_residence\",\"company_location\",\"company_size\"]]\n",
    "data_encoded=enc.fit_transform(df_salaries_categorical.fillna(\"Missing\"))\n",
    "\n",
    "df_salaries_categorical_encoded=pd.DataFrame(data_encoded,columns=columns_non_numeric)\n",
    "\n",
    "df_salaries_fully_encoded=pd.concat((df_salaries_numerical,df_salaries_categorical_encoded),axis=1)\n",
    "df_salaries_fully_encoded"
   ]
  },
  {
   "cell_type": "markdown",
   "id": "f826e389-4ba6-49e4-a383-6a4e26eb11bf",
   "metadata": {},
   "source": [
    "**6. Visualiser l'histogramme de chaque colonne de ce dataset.**"
   ]
  },
  {
   "cell_type": "code",
   "execution_count": 13,
   "id": "a6724fc5-7e5b-47a3-8703-0d4e2caeaa7f",
   "metadata": {},
   "outputs": [
    {
     "data": {
      "text/plain": [
       "0      2020\n",
       "1      2020\n",
       "2      2020\n",
       "3      2020\n",
       "4      2020\n",
       "       ... \n",
       "602    2022\n",
       "603    2022\n",
       "604    2022\n",
       "605    2022\n",
       "606    2022\n",
       "Name: work_year, Length: 607, dtype: int64"
      ]
     },
     "execution_count": 13,
     "metadata": {},
     "output_type": "execute_result"
    }
   ],
   "source": [
    "#df_salaries_fully_encoded=df_salaries_fully_encoded.dropna()\n",
    "df_salaries_fully_encoded.work_year"
   ]
  },
  {
   "cell_type": "code",
   "execution_count": 14,
   "id": "668b0352-07b9-4400-8685-8a63d1394ae5",
   "metadata": {},
   "outputs": [
    {
     "data": {
      "text/plain": [
       "[0.0, 1.0, 2.0, 3.0, 4.0]"
      ]
     },
     "execution_count": 14,
     "metadata": {},
     "output_type": "execute_result"
    }
   ],
   "source": [
    "sorted(df_salaries_fully_encoded.experience_level.unique())"
   ]
  },
  {
   "cell_type": "code",
   "execution_count": 15,
   "id": "80c0082c-c847-4d9d-938e-5c1a25bbad3a",
   "metadata": {},
   "outputs": [
    {
     "data": {
      "text/plain": [
       "array([[<AxesSubplot:title={'center':'work_year'}>,\n",
       "        <AxesSubplot:title={'center':'salary'}>,\n",
       "        <AxesSubplot:title={'center':'experience_level'}>],\n",
       "       [<AxesSubplot:title={'center':'employment_type'}>,\n",
       "        <AxesSubplot:title={'center':'job_title'}>,\n",
       "        <AxesSubplot:title={'center':'salary_currency'}>],\n",
       "       [<AxesSubplot:title={'center':'employee_residence'}>,\n",
       "        <AxesSubplot:title={'center':'company_location'}>,\n",
       "        <AxesSubplot:title={'center':'company_size'}>]], dtype=object)"
      ]
     },
     "execution_count": 15,
     "metadata": {},
     "output_type": "execute_result"
    },
    {
     "data": {
      "image/png": "[encoded data removed]",
      "text/plain": [
       "<Figure size 1296x1296 with 9 Axes>"
      ]
     },
     "metadata": {
      "needs_background": "light"
     },
     "output_type": "display_data"
    }
   ],
   "source": [
    "df_salaries_fully_encoded.hist(bins=20, figsize=(18,18))"
   ]
  },
  {
   "cell_type": "markdown",
   "id": "44393768-58a2-40cd-b3f7-a64e2dee02da",
   "metadata": {},
   "source": [
    "**7. Pour chaque colonne, déterminer la moyenne, la médiane et le mode. Expliquer les\n",
    "valeurs trouvées. Pour de valeurs nominales, ces caractéristiques statistiques doivent\n",
    "aussi être nominales.**"
   ]
  },
  {
   "cell_type": "code",
   "execution_count": 16,
   "id": "11d98d63-b528-47a7-8568-0fe38736ef85",
   "metadata": {},
   "outputs": [],
   "source": [
    "from statistics import mean,mode,median\n"
   ]
  },
  {
   "cell_type": "markdown",
   "id": "0ae01249-6d19-4aa2-b32b-b1c27238cfc2",
   "metadata": {},
   "source": [
    "a. Work Pay"
   ]
  },
  {
   "cell_type": "code",
   "execution_count": 17,
   "id": "67835232-d4f2-4a0b-9bff-1467d47268d6",
   "metadata": {},
   "outputs": [
    {
     "data": {
      "text/plain": [
       "2022    318\n",
       "2021    217\n",
       "2020     72\n",
       "Name: work_year, dtype: int64"
      ]
     },
     "execution_count": 17,
     "metadata": {},
     "output_type": "execute_result"
    }
   ],
   "source": [
    "df_salaries.work_year.value_counts()"
   ]
  },
  {
   "cell_type": "code",
   "execution_count": 18,
   "id": "7ae5e549-ab69-4d15-b390-a382845e400a",
   "metadata": {},
   "outputs": [
    {
     "name": "stdout",
     "output_type": "stream",
     "text": [
      " La moyenne de  2021.4052718286655  traduit qu'il asymetrie des données vers les années superieures à 2021\n"
     ]
    }
   ],
   "source": [
    "print(\" La moyenne de \",mean(df_salaries.work_year) ,\" traduit qu'il asymetrie des données vers les années superieures à 2021\")"
   ]
  },
  {
   "cell_type": "code",
   "execution_count": 19,
   "id": "caedc56b-9312-4289-b4dd-4b14a22519eb",
   "metadata": {},
   "outputs": [
    {
     "name": "stdout",
     "output_type": "stream",
     "text": [
      " La moyenne de  2022  traduit qu'il asymetrie des données vers les années superieures à 2021\n"
     ]
    }
   ],
   "source": [
    "print(\" La moyenne de \",median(df_salaries.work_year),\" traduit qu'il asymetrie des données vers les années superieures à 2021\")\n"
   ]
  },
  {
   "cell_type": "code",
   "execution_count": 20,
   "id": "e40db0b5-84d7-4254-b129-954d0538fc6a",
   "metadata": {},
   "outputs": [
    {
     "data": {
      "text/plain": [
       "2022"
      ]
     },
     "execution_count": 20,
     "metadata": {},
     "output_type": "execute_result"
    }
   ],
   "source": [
    "mode(df_salaries.work_year)"
   ]
  },
  {
   "cell_type": "markdown",
   "id": "d9bff4f3-32b8-4de2-a476-4caba548de2f",
   "metadata": {},
   "source": [
    "**8. Déterminer s'il y a des valeurs manquantes et les remplacer par la moyenne de chaque\n",
    "colonne concernée.**"
   ]
  },
  {
   "cell_type": "code",
   "execution_count": 21,
   "id": "48e5ecc7-1564-4f35-8da0-260e2368aa97",
   "metadata": {},
   "outputs": [
    {
     "data": {
      "text/plain": [
       "work_year             0\n",
       "salary                2\n",
       "experience_level      0\n",
       "employment_type       0\n",
       "job_title             0\n",
       "salary_currency       0\n",
       "employee_residence    0\n",
       "company_location      0\n",
       "company_size          0\n",
       "dtype: int64"
      ]
     },
     "execution_count": 21,
     "metadata": {},
     "output_type": "execute_result"
    }
   ],
   "source": [
    "df_salaries_fully_encoded.isna().sum()"
   ]
  },
  {
   "cell_type": "markdown",
   "id": "b9776311-3d24-4c9d-819a-94f62537d2b3",
   "metadata": {},
   "source": [
    "La colonne \"Salary\" a 2 valeurs manquantes, ainsi nous allons proceder au remplaisnant par la moyen"
   ]
  },
  {
   "cell_type": "code",
   "execution_count": 22,
   "id": "6cea608a-9bf9-4244-91f2-68a3e1fef58c",
   "metadata": {},
   "outputs": [
    {
     "data": {
      "text/plain": [
       "15   NaN\n",
       "23   NaN\n",
       "Name: salary, dtype: float64"
      ]
     },
     "execution_count": 22,
     "metadata": {},
     "output_type": "execute_result"
    }
   ],
   "source": [
    "#Localiser les cellules avec NaN\n",
    "df_salaries_fully_encoded.salary[df_salaries_fully_encoded.salary.isna()>0]"
   ]
  },
  {
   "cell_type": "code",
   "execution_count": 23,
   "id": "0daa2d11-5f7b-45e8-9ad6-a92bda6c72de",
   "metadata": {},
   "outputs": [],
   "source": [
    "moyenne_salaire=df_salaries_fully_encoded.salary.mean()\n",
    "df_salaries_fully_encoded.salary.fillna(moyenne_salaire,inplace = True)\n"
   ]
  },
  {
   "cell_type": "code",
   "execution_count": 24,
   "id": "7fc90489-e39d-45ee-aba7-0eb02f7a9ac1",
   "metadata": {},
   "outputs": [
    {
     "data": {
      "text/plain": [
       "Series([], Name: salary, dtype: float64)"
      ]
     },
     "execution_count": 24,
     "metadata": {},
     "output_type": "execute_result"
    }
   ],
   "source": [
    "#Verification du remplacement des valeurs NaN\n",
    "df_salaries_fully_encoded.salary[df_salaries_fully_encoded.salary.isna()>0]"
   ]
  },
  {
   "cell_type": "markdown",
   "id": "c08ebf85-a29d-4911-aa38-ee7085a1d1fa",
   "metadata": {},
   "source": [
    "**9. Créer une nouvelle colonne salary_in_usd où tous les salaires seront convertis en dollars\n",
    "américains et enregistrer le nouveau dataset sous ds_dataset_new.csv.**"
   ]
  },
  {
   "cell_type": "code",
   "execution_count": 25,
   "id": "fac6524a-8335-4368-9acf-0ff5e9a9d421",
   "metadata": {},
   "outputs": [],
   "source": [
    "#Preparaton des parités\n",
    "parite_usd={'EUR-USD':0.98, \n",
    "            'GBP-USD': 1.11, \n",
    "            'HUF-USD':0.0023, \n",
    "            'INR-USD': 0.012, \n",
    "            'JPY-USD': 0.0069, \n",
    "            'CNY-USD': 0.14,\n",
    "            'CAD-USD': 0.72,\n",
    "            'DKK-USD': 0.13,\n",
    "            'PLN-USD': 0.20,\n",
    "            'SGD-USD': 0.70,\n",
    "            'CLP-USD': 0.0010,\n",
    "            'BRL-USD': 0.18,\n",
    "            'TRY-USD': 0.054,\n",
    "            'AUD-USD': 0.64,\n",
    "            'CHF-USD': 1.01,\n",
    "            'MXN-USD': 0.050}\n",
    "parite_currency_numeric={code:currency for currency,code  in zip(df_salaries.salary_currency, df_salaries_fully_encoded.salary_currency)}\n"
   ]
  },
  {
   "cell_type": "code",
   "execution_count": 26,
   "id": "2da3fd8c-f777-4819-b6a8-1b58f3f28abf",
   "metadata": {},
   "outputs": [],
   "source": [
    "np_salary_in_usd=[]\n",
    "for salary,currency in zip(df_salaries_fully_encoded.salary, df_salaries_fully_encoded.salary_currency) :\n",
    "    actual_currency=parite_currency_numeric[currency]\n",
    "    if(actual_currency=='USD') : #Cas du USD\n",
    "        np_salary_in_usd.append(salary)\n",
    "    else :\n",
    "        #recuperation de la parité\n",
    "        \n",
    "        np_salary_in_usd.append(np.round(salary*parite_usd[str(actual_currency)+'-USD']))\n"
   ]
  },
  {
   "cell_type": "code",
   "execution_count": 27,
   "id": "dd9c44f3-0d20-4b67-977a-f889cbd6003d",
   "metadata": {},
   "outputs": [],
   "source": [
    "ds_salary_in_usd=pd.DataFrame(np_salary_in_usd,columns=[\"salary_in_usd\"])"
   ]
  },
  {
   "cell_type": "code",
   "execution_count": 28,
   "id": "11237840-4439-4ae2-b218-0a5d5bb3ff64",
   "metadata": {},
   "outputs": [],
   "source": [
    "ds_salary_new=pd.concat([df_salaries_fully_encoded,ds_salary_in_usd],axis=1)"
   ]
  },
  {
   "cell_type": "code",
   "execution_count": 29,
   "id": "5003c1e5-3dc1-4106-a234-b6cd312f146b",
   "metadata": {},
   "outputs": [],
   "source": [
    "ds_salary_new.to_csv(\"ds_dataset_new.csv\")"
   ]
  },
  {
   "cell_type": "markdown",
   "id": "7c6c0ddf-9bdd-4229-b754-1cd4fba2026a",
   "metadata": {},
   "source": [
    "**10. Créer une autre colonne salary_category pour (high pour salaire au dessus du ¾ du plus grand\n",
    "salaire dans le dataset, normal entre ½ et ¾ et low en dessous de ½ ). Considérer la colonne\n",
    "salary_in_usd pour cette question.**"
   ]
  },
  {
   "cell_type": "code",
   "execution_count": 30,
   "id": "32506a43-7fa8-471b-8f6c-955d4bdfbe02",
   "metadata": {},
   "outputs": [],
   "source": [
    "highest_salary=int(ds_salary_new.salary_in_usd.max())\n",
    "condition=[\n",
    "    (ds_salary_new[\"salary_in_usd\"]/highest_salary)>(3/4),\n",
    "    ((ds_salary_new[\"salary_in_usd\"]/highest_salary)<=(3/4)) & ((ds_salary_new[\"salary_in_usd\"]/highest_salary)>=(1/2)),\n",
    "    (ds_salary_new[\"salary_in_usd\"]/highest_salary)<(1/2)\n",
    "            ]\n",
    "\n",
    "values_to_fill=['high','normal','low']\n",
    "\n",
    "ds_salary_new[\"salary_category\"]=np.select(condition,values_to_fill)"
   ]
  },
  {
   "cell_type": "code",
   "execution_count": null,
   "id": "94527aa4-7642-467f-b30b-b4396c8f4143",
   "metadata": {},
   "outputs": [],
   "source": []
  },
  {
   "cell_type": "markdown",
   "id": "dd2d2012-b45f-40f4-9973-cd8e06b611dc",
   "metadata": {},
   "source": [
    "**11. Décrire les caractéristiques de chaque groupe de salaire selon la question 10**"
   ]
  },
  {
   "cell_type": "code",
   "execution_count": 31,
   "id": "023f54e2-5ac3-4d26-90c7-f54a0f22a052",
   "metadata": {},
   "outputs": [
    {
     "data": {
      "text/plain": [
       "count     607\n",
       "unique      3\n",
       "top       low\n",
       "freq      595\n",
       "Name: salary_category, dtype: object"
      ]
     },
     "execution_count": 31,
     "metadata": {},
     "output_type": "execute_result"
    }
   ],
   "source": [
    "ds_salary_new.salary_category.describe()"
   ]
  },
  {
   "cell_type": "code",
   "execution_count": 32,
   "id": "0f15a014-9730-49ce-9f83-69e006df8408",
   "metadata": {},
   "outputs": [],
   "source": [
    "np_category_weight= ds_salary_new.salary_category.value_counts()\n",
    "total_case=ds_salary_new.salary_category.count()"
   ]
  },
  {
   "cell_type": "code",
   "execution_count": 33,
   "id": "b3e95661-7952-466e-9947-4b670aeb17ed",
   "metadata": {},
   "outputs": [
    {
     "name": "stdout",
     "output_type": "stream",
     "text": [
      "Les salaires sont reparti à  98.0  % dans la categorie  low\n",
      "Les salaires sont reparti à  1.8  % dans la categorie  normal\n",
      "Les salaires sont reparti à  0.2  % dans la categorie  high\n"
     ]
    }
   ],
   "source": [
    "for key,value in enumerate(np_category_weight):\n",
    "    print(\"Les salaires sont reparti à \",round(((np_category_weight[key]/total_case)*100),1),\" % dans la categorie \",np_category_weight.keys()[key])"
   ]
  },
  {
   "cell_type": "markdown",
   "id": "ac8400b4-cee8-4a22-8243-88f65b39738d",
   "metadata": {},
   "source": [
    "**12. Supprimer les colonnes moins importantes.**"
   ]
  },
  {
   "cell_type": "code",
   "execution_count": 34,
   "id": "3f0eafaf-ec74-42e4-b6b0-0c163faee8a8",
   "metadata": {},
   "outputs": [],
   "source": [
    "import plotly.express as px\n",
    "from sklearn.decomposition import PCA\n"
   ]
  },
  {
   "cell_type": "code",
   "execution_count": 44,
   "id": "fda1be9f-9814-46fb-b9b4-f47ec6e9dbc7",
   "metadata": {},
   "outputs": [],
   "source": [
    "# Pour supprimer les colonnes moins importantes, nous avons utiliser la methode des ACP car les variables sont non corrélées\n",
    "# Nous avons reduit les variables à un maximum de 3 permettant ainsi de poursuivre avec la representation\n",
    "X = ds_salary_new[['work_year', 'salary', 'experience_level', 'employment_type',\n",
    "       'job_title', 'salary_currency', 'employee_residence',\n",
    "       'company_location', 'company_size', 'salary_in_usd']]\n",
    "pca = PCA(n_components=3)\n",
    "components = pca.fit_transform(X)\n",
    "total_var = pca.explained_variance_ratio_.sum() * 100"
   ]
  },
  {
   "cell_type": "code",
   "execution_count": 46,
   "id": "36eb4776-03e1-4db9-b20a-09f06c6b5935",
   "metadata": {},
   "outputs": [
    {
     "data": {
      "text/plain": [
       "array([[-2.54714013e+05, -4.25407231e+04,  3.03777156e+01],\n",
       "       [-6.55450376e+04,  1.49680658e+05,  3.79181216e+01],\n",
       "       [-2.39825716e+05, -1.67259764e+04,  2.40124192e+01],\n",
       "       ...,\n",
       "       [-1.95976250e+05,  1.81143360e+04, -1.75232383e+01],\n",
       "       [-1.75067430e+05,  3.92051212e+04, -1.41767943e+01],\n",
       "       [-1.25284524e+05,  8.94212727e+04,  1.36967978e+01]])"
      ]
     },
     "execution_count": 46,
     "metadata": {},
     "output_type": "execute_result"
    }
   ],
   "source": [
    "components"
   ]
  },
  {
   "cell_type": "markdown",
   "id": "606e85c1-fd05-4d09-97c5-5ea5f21f2c9c",
   "metadata": {},
   "source": [
    "**13. Visualiser en clusters ces données sur 3D**"
   ]
  },
  {
   "cell_type": "code",
   "execution_count": 47,
   "id": "e0671b80-f97f-449f-bffe-32c5f47fda38",
   "metadata": {},
   "outputs": [
    {
     "data": {
      "application/vnd.plotly.v1+json": {
       "config": {
        "plotlyServerURL": "https://plot.ly"
       },
       "data": [
        {
         "hovertemplate": "color=low<br>Axe 1=%{x}<br>Axe 2=%{y}<br>Axe 3=%{z}<extra></extra>",
         "legendgroup": "low",
         "marker": {
          "color": "#636efa",
          "symbol": "circle"
         },
         "mode": "markers",
         "name": "low",
         "scene": "scene",
         "showlegend": true,
         "type": "scatter3d",
         "x": [
          -254714.01332015736,
          -65545.03759823086,
          -239825.7160620206,
          -304502.98443671275,
          -175067.42995723867,
          -252728.76269090743,
          -135241.10548148866,
          10675371.002310002,
          -190002.30164117937,
          -199958.8827294077,
          -279607.63238012244,
          2675399.7271830183,
          -289565.07999976905,
          -237793.89100875528,
          -239785.2072306489,
          4125409.0590626444,
          -224841.67050863654,
          98557.89153176495,
          -268659.2924664524,
          -25600.31142846492,
          125556.23440189192,
          -282594.86667125986,
          -209915.4637605269,
          -282598.5060130372,
          395421.1257502514,
          -224850.335558042,
          -167907.36624889798,
          -272638.4146944671,
          -254720.07891561266,
          -264671.4609812628,
          -283590.611429745,
          -259692.73710682057,
          -221863.36122043245,
          -75501.61876581346,
          -314459.5655986782,
          -187015.32730014302,
          -278854.8315293146,
          -254714.01332943465,
          -280603.37719672156,
          -218876.38688504495,
          -236840.17145033658,
          -310475.7199879202,
          -264705.2544746163,
          -137232.4217082355,
          -219872.04499607882,
          -263177.8438085203,
          125556.23439555366,
          -233811.2585645595,
          -24587.92987135377,
          -276620.3981224937,
          -264676.66002675897,
          -194969.32759777186,
          -290560.82475964655,
          -206928.48954124347,
          -204937.17331744343,
          -186666.84696381295,
          -214893.75443739275,
          -194184.06566122465,
          -305496.9962149557,
          -284586.3561971477,
          -269650.18474968727,
          -281399.97294091055,
          -135041.97386135763,
          -219872.0449960869,
          -244756.56567654904,
          -269650.1847727788,
          -287573.5904759274,
          -264705.2544697793,
          -175067.42992604498,
          -90436.49044616122,
          -279607.63238021405,
          -224850.33555870692,
          75559.30316179358,
          -55588.45652800037,
          -244763.49779567667,
          -257701.2476077444,
          -185024.01108004077,
          -256628.9041995015,
          -284586.3561850983,
          -194969.3276473691,
          -214512.49417323872,
          -274628.90857204556,
          -214893.75443813554,
          -155154.26772007224,
          -244763.4977308589,
          -249735.2895166952,
          -259692.73713057337,
          1125494.8590306598,
          -49614.507857113436,
          1875448.8275026768,
          -204781.20321009078,
          -312468.2493453111,
          -254720.0789149829,
          -243760.82097299708,
          -249741.78835526804,
          -175067.42996097065,
          10675371.002283325,
          -262685.34381013765,
          -251733.1045773357,
          -287140.62634448934,
          -90151.4116579821,
          -209915.46387799573,
          -175067.42996100485,
          1925445.7587333785,
          -244756.5656977634,
          -242313.66990059667,
          -249777.5314236262,
          -312468.2493924138,
          -286179.54785646487,
          -100393.07156315149,
          -274633.24112042924,
          -290560.8247664902,
          -234806.91667658047,
          -125284.52436525807,
          -264676.6599812046,
          -125284.5243602533,
          -274633.2411530681,
          -244801.62374566036,
          -315693.42341996235,
          -174071.77184372218,
          -204937.17331421038,
          375540.8905551174,
          -304502.9844479306,
          2675399.7272099624,
          -224850.3354972137,
          -282594.8666660319,
          -286182.87525400036,
          -300520.3519622705,
          -224850.33555569165,
          -234806.91667660652,
          6675308.896074802,
          8175249.976668283,
          -105371.36212178232,
          -244763.4977939183,
          -190002.30164048518,
          -85458.19988809314,
          -175067.42996079478,
          -242274.35251423024,
          -224850.33555656267,
          -254714.01329772337,
          -271641.6742796957,
          -234806.91667569318,
          -172080.4556250557,
          -165110.8487808907,
          -157145.58389708385,
          -175067.4299600654,
          -229713.38143841867,
          -311074.3280451421,
          -181041.3786317456,
          -165415.18822074533,
          -164902.8886798829,
          -204937.1733187479,
          -199958.88275505204,
          -95414.78099369802,
          -239785.2072209481,
          -300518.2724180507,
          -270645.9295121538,
          -214884.22284095074,
          -160132.55828121994,
          -244763.49779476324,
          -75501.61876816889,
          -269654.950594768,
          -175067.42996108616,
          -155154.2677228252,
          -264705.25447546644,
          -264676.66003397177,
          -90436.49044308664,
          -273234.86595646484,
          -151171.6352748817,
          -266429.25531576225,
          30075166.83107306,
          -243767.83967922608,
          95558.07563721767,
          1347481.2336944835,
          -247982.77959579366,
          -302509.76197130524,
          -279632.97752292396,
          -312468.2493775432,
          -320433.5142465599,
          -274633.2411271023,
          -265667.20571228955,
          -259692.7371796222,
          -250737.44641456404,
          -173076.11370837988,
          -302666.9908572655,
          -306494.30069359817,
          -151171.6352743542,
          -204293.16551030235,
          -178054.40429577028,
          -315184.40469036484,
          1475470.3776808772,
          3675338.351818252,
          -234806.91667534958,
          -272637.41902688786,
          -130262.8149210494,
          -292552.3142835879,
          -274633.2410995799,
          -165110.84884090067,
          -254871.0774547396,
          -125284.52436162581,
          -160132.55828230915,
          -304502.98447648133,
          -204937.17331871367,
          -303505.5067320459,
          -276620.39808957034,
          -276647.43291740736,
          110557.15504101371,
          -303505.5066537937,
          -140219.39603891477,
          -144519.21658664598,
          -247982.77959579366,
          -249735.28948782268,
          -185024.01108045282,
          -144573.80618154374,
          -239825.7160593279,
          2175430.4148920686,
          -283713.22182384535,
          -100393.07152556466,
          -214760.313248295,
          -249735.28951035693,
          -190002.3016387872,
          -234697.73750368904,
          875510.2028684191,
          -69527.6700949153,
          -125284.52436408751,
          -125284.52436619754,
          -145197.6866036948,
          -214893.75443521474,
          -244666.44962395765,
          -284984.6540926648,
          -320433.51430146064,
          1275485.6527227906,
          -194822.88899455668,
          -244763.4977957028,
          -214893.75443743213,
          -160132.5582813958,
          1010501.9172136104,
          -272169.1160000443,
          -293548.05904764653,
          -216442.4275155245,
          -254753.43910942305,
          -155154.2677178206,
          -209915.46387698772,
          -234806.91667482202,
          1775454.9650394805,
          -231819.9423408332,
          -199807.24506082176,
          -125284.52436525807,
          -178041.66664435389,
          -140219.39604032144,
          -204926.77522123573,
          -194980.59219829203,
          -270645.92951350525,
          925507.1341025088,
          4575283.114010746,
          -302908.05984410975,
          -165110.84882635548,
          -231670.59362320125,
          -213126.46128882072,
          -74476.98186424491,
          -269650.1847505716,
          -252230.93363411108,
          -222496.6486977887,
          -259692.7371305049,
          -239785.20718001842,
          -258975.80264527068,
          -224850.3355556574,
          -266667.9762559712,
          -269654.9505181743,
          -144459.9480295156,
          -274628.90860410116,
          -212902.4382136061,
          -224850.33548394952,
          -265667.205759926,
          -219872.0449912858,
          -254721.0744783355,
          6675154.225734159,
          -237786.3524437956,
          -215889.412548466,
          -281399.97297254263,
          -190002.30163973992,
          -170089.13940235818,
          -204339.77845216697,
          -194980.59219836563,
          -234806.91667488753,
          -155154.26772272302,
          -175067.42996098395,
          -222759.45352255838,
          -239884.77304746278,
          -188389.33549756158,
          -225487.55674744173,
          -234849.80837641,
          -244801.62374251368,
          -179050.0624078172,
          -201950.19898181732,
          -284608.8852076872,
          -225845.9936694888,
          -208919.80576696698,
          -218617.51577693972,
          -198465.39559181972,
          -83466.88366495352,
          -125284.5243653015,
          -274657.0698407646,
          -294560.70057297207,
          -264705.2544755401,
          -284608.88520774746,
          -159913.5134968485,
          -289584.79289073905,
          -204777.86801965028,
          -234488.30608089405,
          -143266.10986654155,
          -192670.6653796669,
          -105261.8397348206,
          -165031.1961929607,
          -145197.68660273944,
          -204937.17331752222,
          -200765.3658303991,
          -194980.5922000939,
          -214893.7544383548,
          -155154.26772366252,
          -209417.63482286318,
          -212006.34591389744,
          -234488.30608089405,
          -212006.34591389744,
          -234488.30608089405,
          -159734.2950375833,
          -192670.6653796669,
          -158141.2420593413,
          -81575.1332524092,
          -188409.24866155823,
          -215610.6282790227,
          -196100.70757520729,
          -231122.98166174878,
          -101388.72967710248,
          -157270.0412082222,
          -150175.97716576516,
          -168496.08642241813,
          -216088.54417186172,
          -229281.01415383047,
          -211906.7801017927,
          -190002.30164061915,
          -163774.6756550231,
          -187870.5976214307,
          -158141.24205764325,
          -201950.19898181732,
          -264705.2544756004,
          -274657.06984170404,
          -175067.42996016503,
          -113834.45607751276,
          -132851.52591724877,
          -234109.95589880555,
          -194980.59210132618,
          -263382.3043897525,
          -194980.59210132618,
          -263382.3043897525,
          -165110.84884187955,
          -186417.93243597372,
          -189006.64352782682,
          -266667.9762578976,
          -190002.30164228697,
          -155154.26772190415,
          -201950.19898181732,
          -135589.5858199994,
          -160136.54091110363,
          -274628.90857398533,
          -274628.90857398533,
          -174885.46473897004,
          -192989.27597635824,
          -159734.2950375833,
          -116547.62443353083,
          -177257.87780742877,
          -188016.95936458532,
          -223287.1523209931,
          -196100.7075760865,
          -231122.98166262798,
          5675215.601104351,
          -192670.6653796669,
          -296053.4728749796,
          -161128.21639514077,
          -170089.13940147895,
          -229873.90069048444,
          -249777.53142269189,
          -204937.17332118872,
          -212006.34591389744,
          -234488.30608089405,
          -180045.7205209611,
          -219473.78175271783,
          -244756.5657041466,
          -234849.80837722885,
          -110050.95525220892,
          -166903.03344244388,
          -116224.035546949,
          -170487.40264621004,
          -208985.51920235326,
          -243104.73138138957,
          -150175.97716321808,
          -249777.5314263844,
          -266667.9762578976,
          -141613.31740073167,
          -284608.88520862657,
          -145197.6866027737,
          -269681.16215771274,
          -289584.7928899202,
          -264671.4609558871,
          -279607.6323854083,
          -264705.2544755401,
          -279632.9775246956,
          -65545.03764973,
          -264676.65994943446,
          -260793.59339669714,
          -165110.8488375992,
          -212603.7407758514,
          -84462.5417761934,
          -166106.50695306313,
          -145197.6866027737,
          -244763.49779407828,
          -241876.08927034936,
          -224053.80906713192,
          -279607.63237895566,
          -184625.74783449608,
          -294560.70057473035,
          -284586.3561896752,
          -294543.80380935594,
          -244756.5657100728,
          -254714.01332975365,
          -244801.62374333257,
          -254753.4391094363,
          -264671.4609494345,
          -244756.56571652548,
          -135589.5858199994,
          -160136.54091110363,
          -284586.35619612783,
          -294543.8038158086,
          -249777.5314263844,
          -264705.2544755401,
          -110050.95525220892,
          -254714.0133362063,
          -116224.035546949,
          -170487.40264621004,
          -145197.68660365284,
          -304501.25148446724,
          -244763.4977949575,
          -224729.02537243732,
          -75198.343471959,
          -204937.17331471693,
          -199958.88275998054,
          -84563.97131234371,
          -219872.04499713136,
          -244756.5656983645,
          1075497.9277947848,
          2075436.5524289014,
          -271641.67433905345,
          -224850.33555460747,
          -274628.9085604809,
          1075497.9277973068,
          -177045.92188242517,
          -204937.17331831498,
          -181041.3786268615,
          -219981.56738856251,
          -224850.33555669658,
          -185024.0110792955,
          -190002.30164055878,
          -274633.2411531678,
          -105371.36212625184,
          -185024.0110792955,
          -185090.73154583108,
          -254753.43910855707,
          -140119.83023201712,
          -105371.36212343843,
          -125284.52436445245,
          -204937.17331749614,
          -204937.17320046588,
          -259698.36935568342,
          -109353.99457469273,
          -115327.94324626151,
          -204937.173314743,
          -95414.78100712139,
          -224850.33547404918,
          -224850.33549460466,
          -295539.5486128713,
          -125284.52434035041,
          -249741.7882507151,
          -174547.5296078261,
          -224729.02537249762,
          -224850.33549339275,
          -172080.45562102474,
          -271840.82326515997,
          -160132.5582814694,
          -239777.84189678266,
          -258124.21099987722,
          -267658.69528026576,
          -294543.8038042501,
          -284589.8222275932,
          -203752.791269555,
          -209915.46387800088,
          -204750.00908524584,
          -249741.78829301542,
          -265667.2056730811,
          -204937.173312654,
          -168097.8231800201,
          -175067.42985415406,
          -234697.73750433724,
          -259698.36947356677,
          -259692.73715232624,
          -304502.98448714305,
          -276624.5573676258,
          -172578.28468055822,
          -262679.97142764926,
          -209920.44615404602,
          -236691.47992727673,
          -314459.56560273067,
          -304502.9844396966,
          -190002.30163876622,
          -148184.6609418195,
          -246754.81401784404,
          -190002.30164061915,
          -224850.33555757577,
          -234488.30608089405,
          -239785.207137353,
          -249741.7882564834,
          -111345.31079491672,
          -132652.3943898559,
          -59172.82573454152,
          -112221.48993726865,
          -212006.34591389744,
          -170089.13940147895,
          -183729.65553374824,
          -222759.4535207396,
          -208985.51920235326,
          -243104.73138138957,
          -118614.61067362616,
          -225746.427857358,
          -194980.59219930516,
          -209915.46387800088,
          -214395.92538160953,
          -194980.59219930516,
          -225796.21076389315,
          -165110.84884191374,
          -120007.5363713394,
          -184625.74783449608,
          -149180.31905042584,
          -181041.37863164328,
          -125184.95855420067,
          -165110.84884191374,
          -180045.72052060944,
          -254222.24985813146,
          -120007.53637137364,
          -184625.74783453028,
          -120007.53637489033,
          -140518.09348029905,
          -150076.41135202674,
          -184775.0965521964,
          -208770.45705018003,
          -270650.60870469676,
          -155154.26772366252,
          -274657.0698425229,
          -244763.4977958367,
          -185024.0110792955,
          -115327.94324538232,
          -185024.0110792955,
          -224850.33555757577,
          -255715.73702688015,
          -115327.94324538232,
          -185024.0110792955,
          -115327.94324538232,
          -174992.75560352992,
          -224850.33555669658,
          -299524.69395017525,
          -198465.39559188,
          -218617.51577700008,
          -105261.8397348206,
          -165031.1961929607,
          -219872.04499801056,
          -213972.77068492578,
          -289584.7928916785,
          -185024.0110792955,
          -225845.9936694888,
          -264676.6600340976,
          -132688.23808575314,
          -180191.08660512455,
          -95414.78100712139,
          -175067.42996016503,
          -174808.55885229848,
          -215610.62827849513,
          -115327.94324538232,
          -155154.26772366252,
          -165110.84884097427,
          -194980.59219836563,
          -257707.05315172748,
          -272641.9248304232,
          -171084.797513392,
          -198963.22464695733,
          -195976.25031209737,
          -175067.4299619234,
          -125284.52433116558
         ],
         "y": [
          -42540.723090805266,
          149680.65805817457,
          -16725.976388231033,
          -91356.88887228958,
          39205.121612883886,
          -39132.08092039382,
          79378.04571250471,
          -38486.05643258138,
          24140.274595373176,
          14097.041165148645,
          -67148.80427029952,
          -62446.17738150939,
          -76992.03718927884,
          -24067.23404621905,
          -26075.880089968985,
          -61458.99999522089,
          -13011.020096030454,
          -104534.74951395894,
          -55201.251368392586,
          -68288.32908936871,
          -104093.77452993588,
          -70101.77373697735,
          4053.8008860551745,
          -69261.77648320267,
          -72324.28456793477,
          -11011.034065468382,
          2275.7857587591425,
          -60259.54673340029,
          -41140.72720350722,
          -52383.95127952224,
          -71086.09757233252,
          -47462.34214776823,
          -7998.064576230154,
          139637.43199234485,
          -101400.11659840461,
          27153.24433475517,
          -65485.52061364436,
          -42540.72224739308,
          -68133.12123485765,
          -4985.09529404541,
          -13383.010039591269,
          -97662.8272523008,
          -44584.02793252749,
          77369.3992522173,
          -5989.418323113668,
          -50907.470010554876,
          -104093.77508598521,
          -20049.941943243288,
          -71143.96933686711,
          -64195.83190430091,
          -51183.958914645846,
          16518.674818348372,
          -77976.36069553356,
          7066.782028269775,
          9075.428251091917,
          27504.757195902053,
          -967.8028778031924,
          19922.112999046007,
          -92741.20736186903,
          -72070.41943054531,
          -57305.57248748473,
          -68920.5873335368,
          79578.91013974059,
          -5989.418339218466,
          -32697.492681711523,
          -57305.56987792499,
          -75023.39059330874,
          -44584.02753667808,
          39205.11752305405,
          124572.58530447975,
          -67148.80423951668,
          -11011.034098413247,
          -104910.39475919525,
          159723.89405946078,
          -31097.496087932377,
          -45493.693087228305,
          29161.8902453942,
          -62189.20380991974,
          -72070.42070335135,
          16518.679465941284,
          -88966.97804750079,
          -62227.18795730802,
          -967.8029364162653,
          59291.58360548497,
          -31097.50235212411,
          -37619.10534852548,
          -47462.33961071623,
          -87761.38460679915,
          165749.8326509022,
          -75512.09214878248,
          -26924.234684641513,
          -99391.4733744007,
          -41140.727143536395,
          -31713.163189673378,
          -36119.111593534115,
          39205.12129929701,
          -38486.05387962718,
          -49175.31194632133,
          -38127.75765167065,
          -69705.46482702311,
          58773.19327026224,
          4053.8126543700796,
          39205.12129789324,
          -74695.47271568826,
          -32697.489915768776,
          -19511.7813073337,
          -27869.19670012303,
          -99391.46881011158,
          -73645.33315415088,
          114529.35443720706,
          -61227.192268512306,
          -77976.36004160871,
          -21054.26504873061,
          89421.27648902746,
          -51183.96354219972,
          89421.27693587627,
          -61227.18920974902,
          -22297.586822949343,
          -102820.48075158514,
          40209.44484001408,
          9075.428534635877,
          -100010.67738088974,
          -91356.88801994355,
          -62446.179812821414,
          -11011.03948258403,
          -70101.77414362991,
          -72877.33720022062,
          -87339.60054593324,
          -11011.033858140472,
          -21054.26503402958,
          -32816.28255062103,
          -15967.625406532117,
          109507.7390334896,
          -31097.4959379478,
          24140.27465009913,
          129594.20072474076,
          39205.121314295466,
          -28586.688165902917,
          -11011.03391702797,
          -42540.72490430742,
          -59274.217512952826,
          -21054.264957633517,
          42218.09062647713,
          49248.34617436731,
          57282.9322460089,
          39205.12135958828,
          -42632.41013957674,
          -97985.41489449062,
          33179.18273492752,
          4086.599799543589,
          1248.8002699695912,
          9075.428146079703,
          14097.043983348729,
          119550.96852328745,
          -26075.88155189827,
          -87819.5896970709,
          -58289.89582033012,
          -3167.7913709490863,
          54269.96795019609,
          -31097.496011536325,
          139637.43180539427,
          -56205.573795839235,
          39205.121271001284,
          59291.58335221237,
          -44584.02800333151,
          -51183.95817054724,
          124572.58559439793,
          -60849.12870770777,
          63308.875811748774,
          -108292.09035350283,
          50664.44937942761,
          -30093.17259531566,
          -104583.74412555594,
          -84135.59436585625,
          -35886.49763712531,
          -89788.23313421379,
          -61298.85889279306,
          -99391.46913277228,
          -107426.05753015171,
          -61227.19227480046,
          -53368.27832292158,
          -47462.334796042305,
          -37123.4393540005,
          41213.76423325387,
          -89504.91962735714,
          -93365.53296380276,
          63308.87585674415,
          -24162.103459717826,
          36192.15204881037,
          -102131.2655143648,
          -82045.060944414,
          -46113.78734545147,
          -21054.264943741393,
          -60258.54338944227,
          84399.6613105843,
          -79945.00727682567,
          -61227.193192500585,
          49248.352401597585,
          -98613.93083783753,
          89421.27681729237,
          54269.96785880157,
          -91356.8854476123,
          9075.428147483466,
          -90772.55593057685,
          -64195.833974548135,
          -57955.8926016913,
          -104338.7628846791,
          -90772.56417402744,
          74356.43037637173,
          -87263.72293288006,
          -35886.49763712531,
          -37619.10845741314,
          29161.89022869456,
          -74663.8341105758,
          -16725.976173766892,
          -70612.37508836958,
          -65867.57946883247,
          114529.34998352668,
          -31767.5240928498,
          -37619.106629232956,
          24140.274813380995,
          -46254.03895641357,
          -91844.48253549071,
          145663.37061187893,
          89421.27660731395,
          89421.27642733244,
          69334.81439281792,
          -967.80268424999,
          -53497.29577225931,
          -72464.15025873826,
          -107426.05161903625,
          -85311.52632221734,
          -17281.00937505933,
          -31097.496073231356,
          -967.8028764224287,
          54269.96793519763,
          -89639.61245707383,
          -52941.44352970321,
          -80929.3303546476,
          -105143.48930311418,
          -33440.80728820531,
          59291.58379906119,
          4053.8127188726394,
          -21054.264898746012,
          -77145.33116635939,
          -18041.29572044415,
          -20902.638295184173,
          89421.27648902746,
          33252.170784380425,
          74356.43025638406,
          6675.441550837789,
          19118.659279780954,
          -58289.8958987248,
          -91027.86279193753,
          -31414.638445538036,
          -90181.96611064338,
          49248.351343858114,
          -17890.64718124653,
          814.8706318812904,
          -96860.34595511536,
          -57305.57255969249,
          -38629.91929199049,
          -92641.61272190415,
          -47462.3396079087,
          -26075.88588401212,
          -46753.22563364619,
          -11011.033856736709,
          -53192.60422587623,
          -56205.581950988104,
          -100943.58554401303,
          -62227.18470738554,
          1040.8433316986798,
          -11011.0407011028,
          -53368.273339385436,
          -5989.41788865879,
          -41141.74014412341,
          2883.380639123951,
          -25807.218777737195,
          -1972.125905490687,
          -68920.58343585725,
          24140.274738365697,
          44226.736744584494,
          9678.021964901418,
          19118.65927975795,
          -21054.26488266422,
          59291.583367187835,
          39205.12128597673,
          -8901.955460218838,
          -26176.31285006037,
          25767.27824193609,
          -11653.800615360167,
          -11154.365809578157,
          -22297.586511407084,
          35187.82895802409,
          12088.397564631341,
          -66870.46942030963,
          -12015.357082806555,
          5058.135686222867,
          -4723.9713606242,
          15603.528265561421,
          131602.84685289912,
          89421.27648235582,
          -55727.24863019114,
          -78013.690033849,
          -44584.028003354506,
          -66870.46940701237,
          54490.91901806794,
          -72442.0797712241,
          9236.119949099366,
          -20732.88162605217,
          71283.2012429681,
          21448.68881948341,
          109618.21412495947,
          49328.6981882044,
          69334.81449748672,
          9075.428253853443,
          13283.541908478808,
          19118.65912312473,
          -967.8029580863597,
          59291.5833054928,
          4555.974120895323,
          1944.7340636351485,
          -20732.88162605217,
          1944.7340636351485,
          -20732.88162605217,
          54671.697101806545,
          21448.68881948341,
          56278.6139800139,
          133511.0607705601,
          25747.191629870285,
          -1690.9155730640578,
          17988.7957259948,
          -17338.2694593352,
          113525.0311747891,
          57157.39695939048,
          64313.198655865075,
          45833.653786073664,
          -2172.9905880208275,
          -15480.271641830881,
          2045.1664504372654,
          24140.2746633734,
          50596.15400552266,
          26290.530564153174,
          56278.61414329573,
          12088.397564631341,
          -44584.02799005723,
          -55727.24869188616,
          39205.1213742663,
          100970.99227399039,
          81788.41049674929,
          -20351.249186209083,
          19118.648743376867,
          -49878.34850558323,
          19118.648743376867,
          -49878.34850558323,
          49248.35234128332,
          27755.83798797598,
          25144.597842426254,
          -53192.60436399031,
          24140.27449344291,
          59291.58345547737,
          12088.397564631341,
          79026.53269024263,
          54265.95088273373,
          -62227.18727762423,
          -62227.18727762423,
          -2794.4945164660053,
          21127.30535119174,
          54671.697101806545,
          98234.21172543464,
          36995.610455342336,
          26142.895007862444,
          -9434.246630378635,
          17988.795651002507,
          -17338.269534327497,
          -13449.009391187921,
          21448.68881948341,
          -79685.1729110415,
          53265.64468112947,
          44226.73681957677,
          -5582.755231985611,
          -27869.196635643468,
          9075.427924184769,
          1944.7340636351485,
          -20732.88162605217,
          34183.50574897432,
          -5587.68917182363,
          -32697.48931248292,
          -11154.36589786772,
          104787.42007082427,
          47440.57082896662,
          98560.61675065654,
          43825.007579356316,
          4991.850361354871,
          -29424.2937685922,
          64313.19890078786,
          -27869.196950611116,
          -53192.60436399031,
          72950.3775971124,
          -66870.46948200469,
          69334.81449608292,
          -50155.63827927669,
          -72442.07968293453,
          -52383.954492227254,
          -67148.80387280192,
          -44584.028003354506,
          -61298.85905609791,
          149680.66282092727,
          -51183.96636533074,
          -47267.09797363698,
          49248.35268794908,
          1342.1406242606304,
          130598.523815481,
          48244.029282515556,
          69334.81449608292,
          -31097.495909972502,
          -28184.958996486454,
          -10207.575419101497,
          -67148.80455534291,
          29563.61957668875,
          -78013.69018383359,
          -72070.42109052674,
          -81913.65401090987,
          -32697.489334002024,
          -42540.72225438514,
          -22297.58659969665,
          -33440.80730152557,
          -52383.95517476825,
          -32697.48865146103,
          79026.53269024263,
          54265.95088273373,
          -72070.42040798574,
          -81913.65332836888,
          -27869.196950611116,
          -44584.028003354506,
          104787.42007082427,
          -42540.721571844144,
          98560.61675065654,
          43825.007579356316,
          69334.81442109065,
          -91756.88029790446,
          -31097.49598496479,
          -39010.78123587712,
          69638.07894126856,
          9075.428477723992,
          14097.043566176408,
          -76803.85931658927,
          -5989.418383450934,
          -32697.48996078715,
          -88578.00447487173,
          -72245.61410175821,
          -59274.21160234757,
          -11011.033763961428,
          -62227.18900502601,
          -88578.00427819056,
          34236.494077799485,
          9075.428150862848,
          33179.18315626514,
          -6099.893849905298,
          -11011.033903753707,
          29161.890333660765,
          24140.274650076128,
          -61227.189195071005,
          109507.7386585051,
          29161.890333660765,
          44561.73768626922,
          -33440.80722653329,
          74456.86232679176,
          109507.73889848046,
          89421.27656399675,
          9075.42823915241,
          9075.416479603047,
          -46162.354243727445,
          105490.44614732469,
          99464.50754290727,
          9075.428492425024,
          119550.96969911066,
          -11011.042436164136,
          -11011.03976086563,
          -82897.97363972868,
          89421.27446250118,
          -36119.12149970551,
          -80793.75304429494,
          -39010.78122257986,
          -11011.039871501462,
          42218.090958121415,
          -59471.08010115924,
          54269.96793517463,
          -27775.87215164508,
          -63275.69362034395,
          -55336.919592592625,
          -81913.6539848535,
          -71270.42451598901,
          -33479.85077211503,
          4053.81265715461,
          -34124.177514451585,
          -36119.11787820231,
          -53368.28141728587,
          9075.428632217303,
          46235.382805825975,
          39205.10985240774,
          -46254.03902692014,
          -46162.34257387141,
          -47462.33667179866,
          -91356.88473277309,
          -63235.83599453863,
          41715.92911941923,
          -50415.30836317795,
          5203.791379102954,
          -47702.69028984376,
          -101400.11638614228,
          -91356.88976030747,
          24140.274801464486,
          66321.8449003343,
          -33106.14213139088,
          24140.2746633734,
          -11011.033978746002,
          -20732.88162605217,
          -26075.890952645354,
          -36119.12199325089,
          103481.80027411712,
          81989.28584722127,
          156108.3305969241,
          102597.99561257775,
          1944.7340636351485,
          44226.73681957677,
          30467.51035564221,
          -8901.955323531514,
          4991.850361354871,
          -29424.2937685922,
          96149.2369631061,
          -11914.924710705473,
          19118.659218062927,
          4053.81265715461,
          -465.64131111788527,
          19118.659218062927,
          -11965.140927603528,
          49248.35233987956,
          94744.18903021872,
          29563.61957668875,
          65317.522079840695,
          33179.18274990298,
          89521.70881270777,
          49248.35233987956,
          34183.50577897124,
          -40638.56547354007,
          94744.18902881494,
          29563.619575284985,
          94744.18872884578,
          74055.13278519837,
          64413.63121119391,
          29412.97103468361,
          5208.78415183195,
          -57209.896690539215,
          59291.5833054928,
          -55727.24878017574,
          -31097.496059957088,
          29161.890333660765,
          99464.50761789955,
          29161.890333660765,
          -11011.033978746002,
          -42145.05020462319,
          99464.50761789955,
          29161.890333660765,
          99464.50761789955,
          39280.44545708625,
          -11011.033903753707,
          -86335.26670829528,
          15603.52827885869,
          -4723.971347326933,
          109618.21412495947,
          49328.6981882044,
          -5989.418458443229,
          -38.80406688444571,
          -72442.07983291915,
          29161.890333660765,
          -12015.357082806555,
          -51183.95814116817,
          81953.12988550898,
          34036.87459077994,
          119550.96969911066,
          39205.1213742663,
          39466.24527633283,
          -1690.91552806868,
          99464.50761789955,
          59291.5833054928,
          49248.352401574586,
          19118.65927975795,
          -44153.7068390326,
          -59218.55339994092,
          43222.413715516224,
          15101.366801820708,
          18114.336039010075,
          39205.12122428171,
          89421.27267411735
         ],
         "z": [
          30.37771561773616,
          37.91812157685264,
          24.012419240958803,
          13.103271827467253,
          -10.679850297996754,
          -26.562645467663675,
          -4.841814017883942,
          -1.0826111199746262,
          -17.086159309448217,
          1.4724014713883524,
          19.562134933311835,
          -11.831440322854945,
          18.000393701819334,
          -21.506651581464606,
          -20.348758562600036,
          -5.044180422441253,
          6.299530475842867,
          1.0864276366926655,
          -19.681916975820293,
          32.46188157535461,
          4.987354950994487,
          15.615535045211484,
          56.29256779374168,
          -8.187071227177606,
          -7.99962772963674,
          -22.639085933486655,
          48.79900135344474,
          27.030718435229343,
          -27.55214279424723,
          -0.3807224796614133,
          17.57799458651703,
          44.259187888997694,
          -20.701029740132252,
          5.290550802238409,
          -16.86380004415541,
          -12.55666256454506,
          -19.842387612204636,
          24.305981513638145,
          -15.190173406782764,
          -20.49128166210019,
          25.902170572409027,
          23.53123819216435,
          21.617990080100636,
          -7.441691384890087,
          -19.979847763410444,
          21.44985234594754,
          0.17564334662269657,
          -23.5349104243362,
          21.379090748122927,
          4.188037637762834,
          -24.358333161517454,
          43.083408274945214,
          19.21272766892487,
          -17.907995605244526,
          -17.607007375828786,
          -14.665132019364844,
          -19.853863758241776,
          11.455644997961745,
          0.258412252292261,
          14.612411404902803,
          28.053434419576117,
          26.210867651753738,
          -6.554236867418411,
          -19.961883070270908,
          47.25523334431642,
          12.016542990050356,
          18.2954603727313,
          25.252691877483112,
          6.278987291252959,
          1.6795319760615495,
          19.522149251898625,
          -23.061600882818464,
          -1.5067702180058526,
          8.185568890286666,
          -25.29210992570704,
          28.67982637682478,
          -15.077773715689942,
          24.818240930273088,
          22.291848558578444,
          9.537644806074077,
          -20.263098658843553,
          18.996518607424,
          -20.395038694351534,
          -8.302251064676176,
          12.245003592754722,
          28.013421836773542,
          29.207914419263663,
          3.876119909049637,
          8.72348106250268,
          3.3318939066298467,
          -18.56051822176639,
          -1.5035514257480551,
          -27.01981236028395,
          6.593024690108508,
          -26.10660302804353,
          -13.501705707931299,
          -20.889064326420126,
          -28.178211215583378,
          -25.083735230664036,
          16.281504862140345,
          58.94941520182948,
          -19.07862442544029,
          -13.50146173730523,
          2.7130971316422605,
          34.06371468922289,
          25.84610397766388,
          25.72641252046737,
          -28.761784669111144,
          -12.00362232248782,
          1.7046176915296518,
          -9.170553185788375,
          14.78198674743814,
          -23.698321195434943,
          -5.516505157813722,
          2.7227753077901915,
          -1.6431653660798113,
          -30.07274420464516,
          22.62105083653086,
          13.944631489297612,
          -9.300144232153194,
          -15.062067847276383,
          1.7551571059915656,
          5.5815277810384964,
          5.738698096693777,
          16.80976773819635,
          19.08889754803956,
          -33.7486966899456,
          30.146542214023082,
          -20.763199686480196,
          -23.7160419179484,
          -1.9495226121673201,
          -1.6155914504843374,
          1.6778378575170632,
          -23.950533176398334,
          -16.54533447016731,
          1.3768278286065085,
          -13.36754803300043,
          -23.569379767748156,
          -21.45195275427409,
          45.06354978517245,
          24.41132500623873,
          -23.045497513920125,
          -12.889484605106617,
          23.11748381957705,
          21.10644275282877,
          -12.813196610763486,
          39.29884110445482,
          -33.17782480118744,
          -13.921201863995442,
          46.397523562623924,
          1.2695233131293684,
          -18.550411366105088,
          -14.63281498847118,
          8.549264234413055,
          -14.422733134897536,
          -7.322376152737622,
          27.48977949105844,
          37.03061579617802,
          -10.306442518877025,
          -24.621565521678765,
          3.533218415807124,
          -30.214831578712158,
          -13.618386630974776,
          -10.4312971116827,
          20.942169527807867,
          -28.478955474373052,
          4.0681549969861175,
          -12.715353643332644,
          -9.543040609849939,
          -12.035210015568486,
          3.4124249733375365,
          -21.644411930913744,
          -14.118188627411786,
          0.7530207382983318,
          31.428775577194425,
          -26.863233075077318,
          19.61156052082834,
          -17.5722347727003,
          -2.575096620616044,
          -10.583243444876047,
          21.981733493705143,
          -0.0387846625972301,
          7.888648538144741,
          8.12989097741399,
          26.664540140284707,
          -9.351971373968757,
          -9.14056758505733,
          45.82306500636628,
          -13.291504009283363,
          -8.221734948003018,
          5.027533053468639,
          -10.547712459341637,
          -22.75921747091885,
          34.05530060544538,
          -3.3790414704189193,
          18.895640009739225,
          2.1143695073853386,
          -11.21989582174352,
          31.887734887172986,
          -2.7166707361528415,
          -11.111144597836176,
          -15.046915645803002,
          -18.550655336731154,
          -25.20110718181372,
          23.630820346431587,
          17.345485439986003,
          11.170869895881987,
          24.88607832451184,
          -4.0337264761749365,
          20.189957926426334,
          31.428775577194425,
          45.861775167493064,
          -15.363565817439076,
          -15.264273826063535,
          26.037472909796936,
          3.6266107233691267,
          18.2326284368585,
          29.58775957677929,
          40.99917195891682,
          31.15392001178315,
          -15.221234472746001,
          37.367591685519045,
          0.27969678933144254,
          5.939352509255361,
          -4.5948781851850224,
          -6.204770284355467,
          -8.837752352036663,
          -18.113870279274593,
          41.20402263311713,
          20.082621898623792,
          -37.44743379478779,
          2.0374503066003564,
          43.28844357112772,
          -25.309830648220508,
          -19.858407994628053,
          -10.440600193807889,
          15.197808775368093,
          19.614815025607463,
          17.371006590460407,
          -33.643290362398865,
          22.694498778854364,
          -6.557957319948793,
          -18.390847240150677,
          -22.356744446126232,
          3.2281546779223795,
          -23.238222460680667,
          40.569724854494105,
          -5.516505157813722,
          45.73340938203186,
          -5.1069878756219,
          38.591869086418384,
          -16.000530100681626,
          26.515722262767568,
          2.3270647023260076,
          8.251009583754419,
          -2.9685718671750907,
          -2.394126080372437,
          -22.54328694400555,
          -19.57530982916481,
          -32.539977805737315,
          27.37785783790942,
          -25.816724091413285,
          31.16601734885899,
          29.207426478011513,
          14.06608935980189,
          22.75787964203749,
          -20.763443657106272,
          -27.456575618245694,
          18.63330302804662,
          -32.430796625190155,
          -1.6805047068162073,
          -19.539699042698846,
          27.246451206933813,
          -8.785202871994573,
          -16.246944976102085,
          34.41030818700673,
          8.153976295933859,
          -16.120121086360527,
          -19.34697409593831,
          6.159514399848721,
          -15.89632311316056,
          -13.380021968522836,
          -18.861815941705203,
          -16.004830366441823,
          -22.379009405025972,
          -10.301439702512031,
          -13.488529221804107,
          -21.809873747050375,
          -24.55077073364156,
          -14.967380487443549,
          -20.904928261884674,
          26.90059889361629,
          25.130792890682397,
          -13.472635502895569,
          -17.137788450081448,
          17.415734008067293,
          -22.30387262254065,
          -19.59484653114238,
          -21.129482375150225,
          -17.904147781626648,
          1.1808209428831267,
          -5.512067047630228,
          19.838851633768137,
          16.29923962790036,
          20.93786926204767,
          17.39825725617989,
          -10.409842474855884,
          16.53083100660035,
          -17.590355161820927,
          -23.687069473913397,
          -8.416224011382068,
          -16.323393108745698,
          -2.3336636638131427,
          -11.899712855968302,
          -8.054827290725113,
          -17.616095848601333,
          -18.28973337299227,
          -17.33766873980683,
          -20.52475825909891,
          -10.989704829053784,
          -19.657047017237286,
          -20.08884540663265,
          -23.687069473913397,
          -20.08884540663265,
          -23.687069473913397,
          -11.051947043836604,
          -16.323393108745698,
          -11.450291505060196,
          1.4573793193847795,
          -16.312144326271543,
          -20.665708609624513,
          -16.872369278443767,
          -22.47766297049869,
          0.05649014962157255,
          -8.88727981389181,
          -11.508294070708374,
          -12.454266432325124,
          -20.07141038343318,
          -21.51206881530982,
          -19.402365555007908,
          -16.56711148781491,
          -11.161976807577492,
          -15.018514480396863,
          -10.126191507638891,
          -17.137788450081448,
          20.920392510160276,
          19.150586507226386,
          -12.835217599037149,
          -3.034917327214029,
          56.396277334581725,
          40.189927128981516,
          45.91592733466696,
          34.96827483589869,
          45.91592733466696,
          34.96827483589869,
          -11.912705184671541,
          -14.651858625033634,
          -15.736968637195957,
          -28.819685414575922,
          -17.882473109292516,
          -9.648128079745076,
          -17.137788450081448,
          -4.3702898281466975,
          -8.299015078578034,
          18.080784178023368,
          18.080784178023368,
          47.07609638152727,
          -17.04517491570872,
          -11.051947043836604,
          -4.274104323802793,
          -13.990743495744503,
          -15.578570288087137,
          -21.22354324465726,
          -17.543157653098103,
          -23.148451345153045,
          8.477391943352027,
          -16.323393108745698,
          18.197524307615524,
          -11.945831684841401,
          -12.70923359386849,
          29.94950144586454,
          26.409889439996775,
          -20.415686299636143,
          -20.08884540663265,
          -23.687069473913397,
          -14.571093703376265,
          -20.881530951574575,
          30.393379111466707,
          26.247287270849323,
          -2.4296142891746064,
          -11.528754866753472,
          -4.088400414809498,
          -12.7732193548804,
          -19.605363926556045,
          -25.066123108911082,
          -9.522144074576412,
          23.592578266448506,
          -28.819685414575922,
          -8.151939551906894,
          16.727468881525542,
          -8.054583320099042,
          20.723754635235068,
          17.184142629367308,
          18.43486236451196,
          16.09261647321233,
          20.93786926204767,
          18.28316025764684,
          4.693774757069248,
          22.811823430921297,
          -27.208949602356483,
          -8.675444234443258,
          -16.27665273795485,
          1.5493587906983046,
          -11.51770823839919,
          -8.054583320099042,
          -23.9900309165594,
          -24.18121455902902,
          -21.346490161776078,
          20.250497808451033,
          -14.36526453892342,
          14.957662878591659,
          18.798960803363478,
          17.237463542497046,
          25.715738221483537,
          24.154240960617102,
          24.477481267915437,
          22.707675264981553,
          22.592743699750677,
          21.55785688624482,
          -4.3702898281466975,
          -8.299015078578034,
          14.641079468124765,
          13.079582207258337,
          23.592578266448506,
          20.93786926204767,
          -2.4296142891746064,
          19.99635962537839,
          -4.088400414809498,
          -12.7732193548804,
          -8.725371694753392,
          -19.33209554916602,
          -24.660819291213762,
          41.87934585102341,
          57.45114480814327,
          -15.45160835656787,
          -18.394018093547903,
          -27.13676587360399,
          -20.67695739209867,
          33.65694139867008,
          0.6000438452817832,
          3.517839317023246,
          -13.794158315401594,
          -19.963285814533393,
          26.576579341684873,
          2.4957280462013602,
          45.885014871732245,
          -18.25168674885482,
          -10.16933120231735,
          -20.023698009800427,
          -21.47372977192169,
          -14.42876235868319,
          -16.549634735927516,
          -30.09476519291883,
          -1.6804042815148954,
          -14.42876235868319,
          35.7671056601731,
          23.378463639635903,
          -7.241875492679566,
          0.4661185173790243,
          -4.850017048919573,
          -17.598375126087866,
          57.599893589880374,
          48.835397411827174,
          -2.9623954321965704,
          -3.9447374158152866,
          -15.469329079081339,
          -0.08685952186886049,
          31.42587484128419,
          14.57538362134631,
          -6.514500209926763,
          9.332253353689293,
          41.59635515184595,
          -18.350275286728767,
          41.86186909913603,
          15.295476828789791,
          -9.790681595569414,
          4.928711820832245,
          -10.444900459568098,
          29.385851282111556,
          36.04886625627113,
          -6.303947232001659,
          20.904348432027476,
          -3.5590300631140925,
          48.76330630622063,
          -19.08341263245264,
          46.53283525167886,
          9.650711974957042,
          47.606246657493145,
          -13.958885121693042,
          -14.251499309710141,
          54.63534281422109,
          36.843649530670604,
          -27.015938956281946,
          15.735145194137175,
          -20.04001380099251,
          -24.651438948253197,
          -12.570989084056515,
          21.519082706844387,
          45.409210398003175,
          38.49312499498256,
          -18.40281653303514,
          10.387169915039621,
          -15.208301957244878,
          -11.08188654230546,
          -24.29126311660122,
          -16.56711148781491,
          -22.144518146576033,
          -23.687069473913397,
          38.762452668147205,
          37.168907908501154,
          -0.49000833840859714,
          -3.9001941240511164,
          4.908697353657489,
          -3.581709125736589,
          -20.08884540663265,
          -12.70923359386849,
          -14.204124788041804,
          -20.450820245854274,
          -19.605363926556045,
          -25.066123108911082,
          -4.453289789087044,
          -21.59967204840244,
          -16.693095492983577,
          -19.08341263245264,
          -19.800507774293347,
          -16.693095492983577,
          -22.295904898742414,
          -11.912461214045466,
          -4.023159048820639,
          -14.36526453892342,
          -8.692001223957456,
          -13.791344454824776,
          -5.522346727864863,
          -11.912461214045466,
          -14.302778353514524,
          -26.174686812877496,
          -4.022915078194573,
          -14.365020568297348,
          -6.706068576811976,
          -9.988770781682813,
          -9.506208626979953,
          -15.059712114346393,
          -19.570943359747695,
          -28.804035666293462,
          -10.989704829053784,
          18.497274884459426,
          -25.331607665868116,
          -14.42876235868319,
          -3.273949041160933,
          -14.42876235868319,
          -22.144518146576033,
          -27.08450690147875,
          -3.273949041160933,
          -14.42876235868319,
          -3.273949041160933,
          -14.164842762648513,
          -21.47372977192169,
          -33.42531546926696,
          -17.92162453351404,
          -21.146959127037626,
          -2.3336636638131427,
          -11.899712855968302,
          -21.347745766753025,
          -20.403570496662745,
          15.842565880058604,
          -14.42876235868319,
          -22.30387262254065,
          -28.51869718516018,
          -6.857399733664985,
          -14.460201781936226,
          -0.08685952186886049,
          -12.835217599037149,
          -13.73288915980245,
          -20.263235584831904,
          -3.273949041160933,
          -10.989704829053784,
          -11.224196087503714,
          -16.004830366441823,
          35.91154885267171,
          33.52123171320266,
          -12.868588069833091,
          -17.330513396841987,
          -17.523238343602532,
          -14.176794348345855,
          13.696797777429692
         ]
        },
        {
         "hovertemplate": "color=normal<br>Axe 1=%{x}<br>Axe 2=%{y}<br>Axe 3=%{z}<extra></extra>",
         "legendgroup": "normal",
         "marker": {
          "color": "#EF553B",
          "symbol": "circle"
         },
         "mode": "markers",
         "name": "normal",
         "scene": "scene",
         "showlegend": true,
         "type": "scatter3d",
         "x": [
          -930.8779174951292,
          -930.8779419383901,
          -827.2603746510276,
          123630.00361863546,
          85794.995361166,
          123630.00361493773,
          96747.23458906537,
          89777.62781320025,
          -1822.9184880837397,
          53933.935776528895,
          78825.38857628923
         ],
         "y": [
          214857.1426775989,
          214857.1449894045,
          214961.664608555,
          340502.0529813322,
          302337.7746367738,
          340502.0526691492,
          313385.3284995512,
          306355.0674078286,
          213957.34138586457,
          270199.43502462696,
          295307.51279112377
         ],
         "z": [
          28.404595061968916,
          12.781116517478537,
          15.489348349538666,
          38.61994763813738,
          28.924499605835486,
          35.79784825757676,
          28.27549320819158,
          32.936283122554215,
          14.247887971980624,
          21.26707207850909,
          26.726668401863748
         ]
        },
        {
         "hovertemplate": "color=high<br>Axe 1=%{x}<br>Axe 2=%{y}<br>Axe 3=%{z}<extra></extra>",
         "legendgroup": "high",
         "marker": {
          "color": "#00cc96",
          "symbol": "circle"
         },
         "mode": "markers",
         "name": "high",
         "scene": "scene",
         "showlegend": true,
         "type": "scatter3d",
         "x": [
          272978.72040508984
         ],
         "y": [
          491150.51854155585
         ],
         "z": [
          62.12459617696668
         ]
        }
       ],
       "layout": {
        "autosize": true,
        "legend": {
         "title": {
          "text": "color"
         },
         "tracegroupgap": 0
        },
        "scene": {
         "aspectmode": "auto",
         "aspectratio": {
          "x": 1,
          "y": 1,
          "z": 1
         },
         "domain": {
          "x": [
           0,
           1
          ],
          "y": [
           0,
           1
          ]
         },
         "xaxis": {
          "title": {
           "text": "Axe 1"
          },
          "type": "linear"
         },
         "yaxis": {
          "title": {
           "text": "Axe 2"
          },
          "type": "linear"
         },
         "zaxis": {
          "title": {
           "text": "Axe 3"
          },
          "type": "linear"
         }
        },
        "template": {
         "data": {
          "bar": [
           {
            "error_x": {
             "color": "#2a3f5f"
            },
            "error_y": {
             "color": "#2a3f5f"
            },
            "marker": {
             "line": {
              "color": "#E5ECF6",
              "width": 0.5
             },
             "pattern": {
              "fillmode": "overlay",
              "size": 10,
              "solidity": 0.2
             }
            },
            "type": "bar"
           }
          ],
          "barpolar": [
           {
            "marker": {
             "line": {
              "color": "#E5ECF6",
              "width": 0.5
             },
             "pattern": {
              "fillmode": "overlay",
              "size": 10,
              "solidity": 0.2
             }
            },
            "type": "barpolar"
           }
          ],
          "carpet": [
           {
            "aaxis": {
             "endlinecolor": "#2a3f5f",
             "gridcolor": "white",
             "linecolor": "white",
             "minorgridcolor": "white",
             "startlinecolor": "#2a3f5f"
            },
            "baxis": {
             "endlinecolor": "#2a3f5f",
             "gridcolor": "white",
             "linecolor": "white",
             "minorgridcolor": "white",
             "startlinecolor": "#2a3f5f"
            },
            "type": "carpet"
           }
          ],
          "choropleth": [
           {
            "colorbar": {
             "outlinewidth": 0,
             "ticks": ""
            },
            "type": "choropleth"
           }
          ],
          "contour": [
           {
            "colorbar": {
             "outlinewidth": 0,
             "ticks": ""
            },
            "colorscale": [
             [
              0,
              "#0d0887"
             ],
             [
              0.1111111111111111,
              "#46039f"
             ],
             [
              0.2222222222222222,
              "#7201a8"
             ],
             [
              0.3333333333333333,
              "#9c179e"
             ],
             [
              0.4444444444444444,
              "#bd3786"
             ],
             [
              0.5555555555555556,
              "#d8576b"
             ],
             [
              0.6666666666666666,
              "#ed7953"
             ],
             [
              0.7777777777777778,
              "#fb9f3a"
             ],
             [
              0.8888888888888888,
              "#fdca26"
             ],
             [
              1,
              "#f0f921"
             ]
            ],
            "type": "contour"
           }
          ],
          "contourcarpet": [
           {
            "colorbar": {
             "outlinewidth": 0,
             "ticks": ""
            },
            "type": "contourcarpet"
           }
          ],
          "heatmap": [
           {
            "colorbar": {
             "outlinewidth": 0,
             "ticks": ""
            },
            "colorscale": [
             [
              0,
              "#0d0887"
             ],
             [
              0.1111111111111111,
              "#46039f"
             ],
             [
              0.2222222222222222,
              "#7201a8"
             ],
             [
              0.3333333333333333,
              "#9c179e"
             ],
             [
              0.4444444444444444,
              "#bd3786"
             ],
             [
              0.5555555555555556,
              "#d8576b"
             ],
             [
              0.6666666666666666,
              "#ed7953"
             ],
             [
              0.7777777777777778,
              "#fb9f3a"
             ],
             [
              0.8888888888888888,
              "#fdca26"
             ],
             [
              1,
              "#f0f921"
             ]
            ],
            "type": "heatmap"
           }
          ],
          "heatmapgl": [
           {
            "colorbar": {
             "outlinewidth": 0,
             "ticks": ""
            },
            "colorscale": [
             [
              0,
              "#0d0887"
             ],
             [
              0.1111111111111111,
              "#46039f"
             ],
             [
              0.2222222222222222,
              "#7201a8"
             ],
             [
              0.3333333333333333,
              "#9c179e"
             ],
             [
              0.4444444444444444,
              "#bd3786"
             ],
             [
              0.5555555555555556,
              "#d8576b"
             ],
             [
              0.6666666666666666,
              "#ed7953"
             ],
             [
              0.7777777777777778,
              "#fb9f3a"
             ],
             [
              0.8888888888888888,
              "#fdca26"
             ],
             [
              1,
              "#f0f921"
             ]
            ],
            "type": "heatmapgl"
           }
          ],
          "histogram": [
           {
            "marker": {
             "pattern": {
              "fillmode": "overlay",
              "size": 10,
              "solidity": 0.2
             }
            },
            "type": "histogram"
           }
          ],
          "histogram2d": [
           {
            "colorbar": {
             "outlinewidth": 0,
             "ticks": ""
            },
            "colorscale": [
             [
              0,
              "#0d0887"
             ],
             [
              0.1111111111111111,
              "#46039f"
             ],
             [
              0.2222222222222222,
              "#7201a8"
             ],
             [
              0.3333333333333333,
              "#9c179e"
             ],
             [
              0.4444444444444444,
              "#bd3786"
             ],
             [
              0.5555555555555556,
              "#d8576b"
             ],
             [
              0.6666666666666666,
              "#ed7953"
             ],
             [
              0.7777777777777778,
              "#fb9f3a"
             ],
             [
              0.8888888888888888,
              "#fdca26"
             ],
             [
              1,
              "#f0f921"
             ]
            ],
            "type": "histogram2d"
           }
          ],
          "histogram2dcontour": [
           {
            "colorbar": {
             "outlinewidth": 0,
             "ticks": ""
            },
            "colorscale": [
             [
              0,
              "#0d0887"
             ],
             [
              0.1111111111111111,
              "#46039f"
             ],
             [
              0.2222222222222222,
              "#7201a8"
             ],
             [
              0.3333333333333333,
              "#9c179e"
             ],
             [
              0.4444444444444444,
              "#bd3786"
             ],
             [
              0.5555555555555556,
              "#d8576b"
             ],
             [
              0.6666666666666666,
              "#ed7953"
             ],
             [
              0.7777777777777778,
              "#fb9f3a"
             ],
             [
              0.8888888888888888,
              "#fdca26"
             ],
             [
              1,
              "#f0f921"
             ]
            ],
            "type": "histogram2dcontour"
           }
          ],
          "mesh3d": [
           {
            "colorbar": {
             "outlinewidth": 0,
             "ticks": ""
            },
            "type": "mesh3d"
           }
          ],
          "parcoords": [
           {
            "line": {
             "colorbar": {
              "outlinewidth": 0,
              "ticks": ""
             }
            },
            "type": "parcoords"
           }
          ],
          "pie": [
           {
            "automargin": true,
            "type": "pie"
           }
          ],
          "scatter": [
           {
            "fillpattern": {
             "fillmode": "overlay",
             "size": 10,
             "solidity": 0.2
            },
            "type": "scatter"
           }
          ],
          "scatter3d": [
           {
            "line": {
             "colorbar": {
              "outlinewidth": 0,
              "ticks": ""
             }
            },
            "marker": {
             "colorbar": {
              "outlinewidth": 0,
              "ticks": ""
             }
            },
            "type": "scatter3d"
           }
          ],
          "scattercarpet": [
           {
            "marker": {
             "colorbar": {
              "outlinewidth": 0,
              "ticks": ""
             }
            },
            "type": "scattercarpet"
           }
          ],
          "scattergeo": [
           {
            "marker": {
             "colorbar": {
              "outlinewidth": 0,
              "ticks": ""
             }
            },
            "type": "scattergeo"
           }
          ],
          "scattergl": [
           {
            "marker": {
             "colorbar": {
              "outlinewidth": 0,
              "ticks": ""
             }
            },
            "type": "scattergl"
           }
          ],
          "scattermapbox": [
           {
            "marker": {
             "colorbar": {
              "outlinewidth": 0,
              "ticks": ""
             }
            },
            "type": "scattermapbox"
           }
          ],
          "scatterpolar": [
           {
            "marker": {
             "colorbar": {
              "outlinewidth": 0,
              "ticks": ""
             }
            },
            "type": "scatterpolar"
           }
          ],
          "scatterpolargl": [
           {
            "marker": {
             "colorbar": {
              "outlinewidth": 0,
              "ticks": ""
             }
            },
            "type": "scatterpolargl"
           }
          ],
          "scatterternary": [
           {
            "marker": {
             "colorbar": {
              "outlinewidth": 0,
              "ticks": ""
             }
            },
            "type": "scatterternary"
           }
          ],
          "surface": [
           {
            "colorbar": {
             "outlinewidth": 0,
             "ticks": ""
            },
            "colorscale": [
             [
              0,
              "#0d0887"
             ],
             [
              0.1111111111111111,
              "#46039f"
             ],
             [
              0.2222222222222222,
              "#7201a8"
             ],
             [
              0.3333333333333333,
              "#9c179e"
             ],
             [
              0.4444444444444444,
              "#bd3786"
             ],
             [
              0.5555555555555556,
              "#d8576b"
             ],
             [
              0.6666666666666666,
              "#ed7953"
             ],
             [
              0.7777777777777778,
              "#fb9f3a"
             ],
             [
              0.8888888888888888,
              "#fdca26"
             ],
             [
              1,
              "#f0f921"
             ]
            ],
            "type": "surface"
           }
          ],
          "table": [
           {
            "cells": {
             "fill": {
              "color": "#EBF0F8"
             },
             "line": {
              "color": "white"
             }
            },
            "header": {
             "fill": {
              "color": "#C8D4E3"
             },
             "line": {
              "color": "white"
             }
            },
            "type": "table"
           }
          ]
         },
         "layout": {
          "annotationdefaults": {
           "arrowcolor": "#2a3f5f",
           "arrowhead": 0,
           "arrowwidth": 1
          },
          "autotypenumbers": "strict",
          "coloraxis": {
           "colorbar": {
            "outlinewidth": 0,
            "ticks": ""
           }
          },
          "colorscale": {
           "diverging": [
            [
             0,
             "#8e0152"
            ],
            [
             0.1,
             "#c51b7d"
            ],
            [
             0.2,
             "#de77ae"
            ],
            [
             0.3,
             "#f1b6da"
            ],
            [
             0.4,
             "#fde0ef"
            ],
            [
             0.5,
             "#f7f7f7"
            ],
            [
             0.6,
             "#e6f5d0"
            ],
            [
             0.7,
             "#b8e186"
            ],
            [
             0.8,
             "#7fbc41"
            ],
            [
             0.9,
             "#4d9221"
            ],
            [
             1,
             "#276419"
            ]
           ],
           "sequential": [
            [
             0,
             "#0d0887"
            ],
            [
             0.1111111111111111,
             "#46039f"
            ],
            [
             0.2222222222222222,
             "#7201a8"
            ],
            [
             0.3333333333333333,
             "#9c179e"
            ],
            [
             0.4444444444444444,
             "#bd3786"
            ],
            [
             0.5555555555555556,
             "#d8576b"
            ],
            [
             0.6666666666666666,
             "#ed7953"
            ],
            [
             0.7777777777777778,
             "#fb9f3a"
            ],
            [
             0.8888888888888888,
             "#fdca26"
            ],
            [
             1,
             "#f0f921"
            ]
           ],
           "sequentialminus": [
            [
             0,
             "#0d0887"
            ],
            [
             0.1111111111111111,
             "#46039f"
            ],
            [
             0.2222222222222222,
             "#7201a8"
            ],
            [
             0.3333333333333333,
             "#9c179e"
            ],
            [
             0.4444444444444444,
             "#bd3786"
            ],
            [
             0.5555555555555556,
             "#d8576b"
            ],
            [
             0.6666666666666666,
             "#ed7953"
            ],
            [
             0.7777777777777778,
             "#fb9f3a"
            ],
            [
             0.8888888888888888,
             "#fdca26"
            ],
            [
             1,
             "#f0f921"
            ]
           ]
          },
          "colorway": [
           "#636efa",
           "#EF553B",
           "#00cc96",
           "#ab63fa",
           "#FFA15A",
           "#19d3f3",
           "#FF6692",
           "#B6E880",
           "#FF97FF",
           "#FECB52"
          ],
          "font": {
           "color": "#2a3f5f"
          },
          "geo": {
           "bgcolor": "white",
           "lakecolor": "white",
           "landcolor": "#E5ECF6",
           "showlakes": true,
           "showland": true,
           "subunitcolor": "white"
          },
          "hoverlabel": {
           "align": "left"
          },
          "hovermode": "closest",
          "mapbox": {
           "style": "light"
          },
          "paper_bgcolor": "white",
          "plot_bgcolor": "#E5ECF6",
          "polar": {
           "angularaxis": {
            "gridcolor": "white",
            "linecolor": "white",
            "ticks": ""
           },
           "bgcolor": "#E5ECF6",
           "radialaxis": {
            "gridcolor": "white",
            "linecolor": "white",
            "ticks": ""
           }
          },
          "scene": {
           "xaxis": {
            "backgroundcolor": "#E5ECF6",
            "gridcolor": "white",
            "gridwidth": 2,
            "linecolor": "white",
            "showbackground": true,
            "ticks": "",
            "zerolinecolor": "white"
           },
           "yaxis": {
            "backgroundcolor": "#E5ECF6",
            "gridcolor": "white",
            "gridwidth": 2,
            "linecolor": "white",
            "showbackground": true,
            "ticks": "",
            "zerolinecolor": "white"
           },
           "zaxis": {
            "backgroundcolor": "#E5ECF6",
            "gridcolor": "white",
            "gridwidth": 2,
            "linecolor": "white",
            "showbackground": true,
            "ticks": "",
            "zerolinecolor": "white"
           }
          },
          "shapedefaults": {
           "line": {
            "color": "#2a3f5f"
           }
          },
          "ternary": {
           "aaxis": {
            "gridcolor": "white",
            "linecolor": "white",
            "ticks": ""
           },
           "baxis": {
            "gridcolor": "white",
            "linecolor": "white",
            "ticks": ""
           },
           "bgcolor": "#E5ECF6",
           "caxis": {
            "gridcolor": "white",
            "linecolor": "white",
            "ticks": ""
           }
          },
          "title": {
           "x": 0.05
          },
          "xaxis": {
           "automargin": true,
           "gridcolor": "white",
           "linecolor": "white",
           "ticks": "",
           "title": {
            "standoff": 15
           },
           "zerolinecolor": "white",
           "zerolinewidth": 2
          },
          "yaxis": {
           "automargin": true,
           "gridcolor": "white",
           "linecolor": "white",
           "ticks": "",
           "title": {
            "standoff": 15
           },
           "zerolinecolor": "white",
           "zerolinewidth": 2
          }
         }
        },
        "title": {
         "text": "Total Explained Variance: 100.00%"
        }
       }
      },
      "image/png": "[encoded data removed]",
      "text/html": [
       "<div>                            <div id=\"00ed2856-767c-499a-a52d-42744a112821\" class=\"plotly-graph-div\" style=\"height:525px; width:100%;\"></div>            <script type=\"text/javascript\">                require([\"plotly\"], function(Plotly) {                    window.PLOTLYENV=window.PLOTLYENV || {};                                    if (document.getElementById(\"00ed2856-767c-499a-a52d-42744a112821\")) {                    Plotly.newPlot(                        \"00ed2856-767c-499a-a52d-42744a112821\",                        [{\"hovertemplate\":\"color=low<br>Axe 1=%{x}<br>Axe 2=%{y}<br>Axe 3=%{z}<extra></extra>\",\"legendgroup\":\"low\",\"marker\":{\"color\":\"#636efa\",\"symbol\":\"circle\"},\"mode\":\"markers\",\"name\":\"low\",\"scene\":\"scene\",\"showlegend\":true,\"x\":[-254714.01332015736,-65545.03759823086,-239825.7160620206,-304502.98443671275,-175067.42995723867,-252728.76269090743,-135241.10548148866,10675371.002310002,-190002.30164117937,-199958.8827294077,-279607.63238012244,2675399.7271830183,-289565.07999976905,-237793.89100875528,-239785.2072306489,4125409.0590626444,-224841.67050863654,98557.89153176495,-268659.2924664524,-25600.31142846492,125556.23440189192,-282594.86667125986,-209915.4637605269,-282598.5060130372,395421.1257502514,-224850.335558042,-167907.36624889798,-272638.4146944671,-254720.07891561266,-264671.4609812628,-283590.611429745,-259692.73710682057,-221863.36122043245,-75501.61876581346,-314459.5655986782,-187015.32730014302,-278854.8315293146,-254714.01332943465,-280603.37719672156,-218876.38688504495,-236840.17145033658,-310475.7199879202,-264705.2544746163,-137232.4217082355,-219872.04499607882,-263177.8438085203,125556.23439555366,-233811.2585645595,-24587.92987135377,-276620.3981224937,-264676.66002675897,-194969.32759777186,-290560.82475964655,-206928.48954124347,-204937.17331744343,-186666.84696381295,-214893.75443739275,-194184.06566122465,-305496.9962149557,-284586.3561971477,-269650.18474968727,-281399.97294091055,-135041.97386135763,-219872.0449960869,-244756.56567654904,-269650.1847727788,-287573.5904759274,-264705.2544697793,-175067.42992604498,-90436.49044616122,-279607.63238021405,-224850.33555870692,75559.30316179358,-55588.45652800037,-244763.49779567667,-257701.2476077444,-185024.01108004077,-256628.9041995015,-284586.3561850983,-194969.3276473691,-214512.49417323872,-274628.90857204556,-214893.75443813554,-155154.26772007224,-244763.4977308589,-249735.2895166952,-259692.73713057337,1125494.8590306598,-49614.507857113436,1875448.8275026768,-204781.20321009078,-312468.2493453111,-254720.0789149829,-243760.82097299708,-249741.78835526804,-175067.42996097065,10675371.002283325,-262685.34381013765,-251733.1045773357,-287140.62634448934,-90151.4116579821,-209915.46387799573,-175067.42996100485,1925445.7587333785,-244756.5656977634,-242313.66990059667,-249777.5314236262,-312468.2493924138,-286179.54785646487,-100393.07156315149,-274633.24112042924,-290560.8247664902,-234806.91667658047,-125284.52436525807,-264676.6599812046,-125284.5243602533,-274633.2411530681,-244801.62374566036,-315693.42341996235,-174071.77184372218,-204937.17331421038,375540.8905551174,-304502.9844479306,2675399.7272099624,-224850.3354972137,-282594.8666660319,-286182.87525400036,-300520.3519622705,-224850.33555569165,-234806.91667660652,6675308.896074802,8175249.976668283,-105371.36212178232,-244763.4977939183,-190002.30164048518,-85458.19988809314,-175067.42996079478,-242274.35251423024,-224850.33555656267,-254714.01329772337,-271641.6742796957,-234806.91667569318,-172080.4556250557,-165110.8487808907,-157145.58389708385,-175067.4299600654,-229713.38143841867,-311074.3280451421,-181041.3786317456,-165415.18822074533,-164902.8886798829,-204937.1733187479,-199958.88275505204,-95414.78099369802,-239785.2072209481,-300518.2724180507,-270645.9295121538,-214884.22284095074,-160132.55828121994,-244763.49779476324,-75501.61876816889,-269654.950594768,-175067.42996108616,-155154.2677228252,-264705.25447546644,-264676.66003397177,-90436.49044308664,-273234.86595646484,-151171.6352748817,-266429.25531576225,30075166.83107306,-243767.83967922608,95558.07563721767,1347481.2336944835,-247982.77959579366,-302509.76197130524,-279632.97752292396,-312468.2493775432,-320433.5142465599,-274633.2411271023,-265667.20571228955,-259692.7371796222,-250737.44641456404,-173076.11370837988,-302666.9908572655,-306494.30069359817,-151171.6352743542,-204293.16551030235,-178054.40429577028,-315184.40469036484,1475470.3776808772,3675338.351818252,-234806.91667534958,-272637.41902688786,-130262.8149210494,-292552.3142835879,-274633.2410995799,-165110.84884090067,-254871.0774547396,-125284.52436162581,-160132.55828230915,-304502.98447648133,-204937.17331871367,-303505.5067320459,-276620.39808957034,-276647.43291740736,110557.15504101371,-303505.5066537937,-140219.39603891477,-144519.21658664598,-247982.77959579366,-249735.28948782268,-185024.01108045282,-144573.80618154374,-239825.7160593279,2175430.4148920686,-283713.22182384535,-100393.07152556466,-214760.313248295,-249735.28951035693,-190002.3016387872,-234697.73750368904,875510.2028684191,-69527.6700949153,-125284.52436408751,-125284.52436619754,-145197.6866036948,-214893.75443521474,-244666.44962395765,-284984.6540926648,-320433.51430146064,1275485.6527227906,-194822.88899455668,-244763.4977957028,-214893.75443743213,-160132.5582813958,1010501.9172136104,-272169.1160000443,-293548.05904764653,-216442.4275155245,-254753.43910942305,-155154.2677178206,-209915.46387698772,-234806.91667482202,1775454.9650394805,-231819.9423408332,-199807.24506082176,-125284.52436525807,-178041.66664435389,-140219.39604032144,-204926.77522123573,-194980.59219829203,-270645.92951350525,925507.1341025088,4575283.114010746,-302908.05984410975,-165110.84882635548,-231670.59362320125,-213126.46128882072,-74476.98186424491,-269650.1847505716,-252230.93363411108,-222496.6486977887,-259692.7371305049,-239785.20718001842,-258975.80264527068,-224850.3355556574,-266667.9762559712,-269654.9505181743,-144459.9480295156,-274628.90860410116,-212902.4382136061,-224850.33548394952,-265667.205759926,-219872.0449912858,-254721.0744783355,6675154.225734159,-237786.3524437956,-215889.412548466,-281399.97297254263,-190002.30163973992,-170089.13940235818,-204339.77845216697,-194980.59219836563,-234806.91667488753,-155154.26772272302,-175067.42996098395,-222759.45352255838,-239884.77304746278,-188389.33549756158,-225487.55674744173,-234849.80837641,-244801.62374251368,-179050.0624078172,-201950.19898181732,-284608.8852076872,-225845.9936694888,-208919.80576696698,-218617.51577693972,-198465.39559181972,-83466.88366495352,-125284.5243653015,-274657.0698407646,-294560.70057297207,-264705.2544755401,-284608.88520774746,-159913.5134968485,-289584.79289073905,-204777.86801965028,-234488.30608089405,-143266.10986654155,-192670.6653796669,-105261.8397348206,-165031.1961929607,-145197.68660273944,-204937.17331752222,-200765.3658303991,-194980.5922000939,-214893.7544383548,-155154.26772366252,-209417.63482286318,-212006.34591389744,-234488.30608089405,-212006.34591389744,-234488.30608089405,-159734.2950375833,-192670.6653796669,-158141.2420593413,-81575.1332524092,-188409.24866155823,-215610.6282790227,-196100.70757520729,-231122.98166174878,-101388.72967710248,-157270.0412082222,-150175.97716576516,-168496.08642241813,-216088.54417186172,-229281.01415383047,-211906.7801017927,-190002.30164061915,-163774.6756550231,-187870.5976214307,-158141.24205764325,-201950.19898181732,-264705.2544756004,-274657.06984170404,-175067.42996016503,-113834.45607751276,-132851.52591724877,-234109.95589880555,-194980.59210132618,-263382.3043897525,-194980.59210132618,-263382.3043897525,-165110.84884187955,-186417.93243597372,-189006.64352782682,-266667.9762578976,-190002.30164228697,-155154.26772190415,-201950.19898181732,-135589.5858199994,-160136.54091110363,-274628.90857398533,-274628.90857398533,-174885.46473897004,-192989.27597635824,-159734.2950375833,-116547.62443353083,-177257.87780742877,-188016.95936458532,-223287.1523209931,-196100.7075760865,-231122.98166262798,5675215.601104351,-192670.6653796669,-296053.4728749796,-161128.21639514077,-170089.13940147895,-229873.90069048444,-249777.53142269189,-204937.17332118872,-212006.34591389744,-234488.30608089405,-180045.7205209611,-219473.78175271783,-244756.5657041466,-234849.80837722885,-110050.95525220892,-166903.03344244388,-116224.035546949,-170487.40264621004,-208985.51920235326,-243104.73138138957,-150175.97716321808,-249777.5314263844,-266667.9762578976,-141613.31740073167,-284608.88520862657,-145197.6866027737,-269681.16215771274,-289584.7928899202,-264671.4609558871,-279607.6323854083,-264705.2544755401,-279632.9775246956,-65545.03764973,-264676.65994943446,-260793.59339669714,-165110.8488375992,-212603.7407758514,-84462.5417761934,-166106.50695306313,-145197.6866027737,-244763.49779407828,-241876.08927034936,-224053.80906713192,-279607.63237895566,-184625.74783449608,-294560.70057473035,-284586.3561896752,-294543.80380935594,-244756.5657100728,-254714.01332975365,-244801.62374333257,-254753.4391094363,-264671.4609494345,-244756.56571652548,-135589.5858199994,-160136.54091110363,-284586.35619612783,-294543.8038158086,-249777.5314263844,-264705.2544755401,-110050.95525220892,-254714.0133362063,-116224.035546949,-170487.40264621004,-145197.68660365284,-304501.25148446724,-244763.4977949575,-224729.02537243732,-75198.343471959,-204937.17331471693,-199958.88275998054,-84563.97131234371,-219872.04499713136,-244756.5656983645,1075497.9277947848,2075436.5524289014,-271641.67433905345,-224850.33555460747,-274628.9085604809,1075497.9277973068,-177045.92188242517,-204937.17331831498,-181041.3786268615,-219981.56738856251,-224850.33555669658,-185024.0110792955,-190002.30164055878,-274633.2411531678,-105371.36212625184,-185024.0110792955,-185090.73154583108,-254753.43910855707,-140119.83023201712,-105371.36212343843,-125284.52436445245,-204937.17331749614,-204937.17320046588,-259698.36935568342,-109353.99457469273,-115327.94324626151,-204937.173314743,-95414.78100712139,-224850.33547404918,-224850.33549460466,-295539.5486128713,-125284.52434035041,-249741.7882507151,-174547.5296078261,-224729.02537249762,-224850.33549339275,-172080.45562102474,-271840.82326515997,-160132.5582814694,-239777.84189678266,-258124.21099987722,-267658.69528026576,-294543.8038042501,-284589.8222275932,-203752.791269555,-209915.46387800088,-204750.00908524584,-249741.78829301542,-265667.2056730811,-204937.173312654,-168097.8231800201,-175067.42985415406,-234697.73750433724,-259698.36947356677,-259692.73715232624,-304502.98448714305,-276624.5573676258,-172578.28468055822,-262679.97142764926,-209920.44615404602,-236691.47992727673,-314459.56560273067,-304502.9844396966,-190002.30163876622,-148184.6609418195,-246754.81401784404,-190002.30164061915,-224850.33555757577,-234488.30608089405,-239785.207137353,-249741.7882564834,-111345.31079491672,-132652.3943898559,-59172.82573454152,-112221.48993726865,-212006.34591389744,-170089.13940147895,-183729.65553374824,-222759.4535207396,-208985.51920235326,-243104.73138138957,-118614.61067362616,-225746.427857358,-194980.59219930516,-209915.46387800088,-214395.92538160953,-194980.59219930516,-225796.21076389315,-165110.84884191374,-120007.5363713394,-184625.74783449608,-149180.31905042584,-181041.37863164328,-125184.95855420067,-165110.84884191374,-180045.72052060944,-254222.24985813146,-120007.53637137364,-184625.74783453028,-120007.53637489033,-140518.09348029905,-150076.41135202674,-184775.0965521964,-208770.45705018003,-270650.60870469676,-155154.26772366252,-274657.0698425229,-244763.4977958367,-185024.0110792955,-115327.94324538232,-185024.0110792955,-224850.33555757577,-255715.73702688015,-115327.94324538232,-185024.0110792955,-115327.94324538232,-174992.75560352992,-224850.33555669658,-299524.69395017525,-198465.39559188,-218617.51577700008,-105261.8397348206,-165031.1961929607,-219872.04499801056,-213972.77068492578,-289584.7928916785,-185024.0110792955,-225845.9936694888,-264676.6600340976,-132688.23808575314,-180191.08660512455,-95414.78100712139,-175067.42996016503,-174808.55885229848,-215610.62827849513,-115327.94324538232,-155154.26772366252,-165110.84884097427,-194980.59219836563,-257707.05315172748,-272641.9248304232,-171084.797513392,-198963.22464695733,-195976.25031209737,-175067.4299619234,-125284.52433116558],\"y\":[-42540.723090805266,149680.65805817457,-16725.976388231033,-91356.88887228958,39205.121612883886,-39132.08092039382,79378.04571250471,-38486.05643258138,24140.274595373176,14097.041165148645,-67148.80427029952,-62446.17738150939,-76992.03718927884,-24067.23404621905,-26075.880089968985,-61458.99999522089,-13011.020096030454,-104534.74951395894,-55201.251368392586,-68288.32908936871,-104093.77452993588,-70101.77373697735,4053.8008860551745,-69261.77648320267,-72324.28456793477,-11011.034065468382,2275.7857587591425,-60259.54673340029,-41140.72720350722,-52383.95127952224,-71086.09757233252,-47462.34214776823,-7998.064576230154,139637.43199234485,-101400.11659840461,27153.24433475517,-65485.52061364436,-42540.72224739308,-68133.12123485765,-4985.09529404541,-13383.010039591269,-97662.8272523008,-44584.02793252749,77369.3992522173,-5989.418323113668,-50907.470010554876,-104093.77508598521,-20049.941943243288,-71143.96933686711,-64195.83190430091,-51183.958914645846,16518.674818348372,-77976.36069553356,7066.782028269775,9075.428251091917,27504.757195902053,-967.8028778031924,19922.112999046007,-92741.20736186903,-72070.41943054531,-57305.57248748473,-68920.5873335368,79578.91013974059,-5989.418339218466,-32697.492681711523,-57305.56987792499,-75023.39059330874,-44584.02753667808,39205.11752305405,124572.58530447975,-67148.80423951668,-11011.034098413247,-104910.39475919525,159723.89405946078,-31097.496087932377,-45493.693087228305,29161.8902453942,-62189.20380991974,-72070.42070335135,16518.679465941284,-88966.97804750079,-62227.18795730802,-967.8029364162653,59291.58360548497,-31097.50235212411,-37619.10534852548,-47462.33961071623,-87761.38460679915,165749.8326509022,-75512.09214878248,-26924.234684641513,-99391.4733744007,-41140.727143536395,-31713.163189673378,-36119.111593534115,39205.12129929701,-38486.05387962718,-49175.31194632133,-38127.75765167065,-69705.46482702311,58773.19327026224,4053.8126543700796,39205.12129789324,-74695.47271568826,-32697.489915768776,-19511.7813073337,-27869.19670012303,-99391.46881011158,-73645.33315415088,114529.35443720706,-61227.192268512306,-77976.36004160871,-21054.26504873061,89421.27648902746,-51183.96354219972,89421.27693587627,-61227.18920974902,-22297.586822949343,-102820.48075158514,40209.44484001408,9075.428534635877,-100010.67738088974,-91356.88801994355,-62446.179812821414,-11011.03948258403,-70101.77414362991,-72877.33720022062,-87339.60054593324,-11011.033858140472,-21054.26503402958,-32816.28255062103,-15967.625406532117,109507.7390334896,-31097.4959379478,24140.27465009913,129594.20072474076,39205.121314295466,-28586.688165902917,-11011.03391702797,-42540.72490430742,-59274.217512952826,-21054.264957633517,42218.09062647713,49248.34617436731,57282.9322460089,39205.12135958828,-42632.41013957674,-97985.41489449062,33179.18273492752,4086.599799543589,1248.8002699695912,9075.428146079703,14097.043983348729,119550.96852328745,-26075.88155189827,-87819.5896970709,-58289.89582033012,-3167.7913709490863,54269.96795019609,-31097.496011536325,139637.43180539427,-56205.573795839235,39205.121271001284,59291.58335221237,-44584.02800333151,-51183.95817054724,124572.58559439793,-60849.12870770777,63308.875811748774,-108292.09035350283,50664.44937942761,-30093.17259531566,-104583.74412555594,-84135.59436585625,-35886.49763712531,-89788.23313421379,-61298.85889279306,-99391.46913277228,-107426.05753015171,-61227.19227480046,-53368.27832292158,-47462.334796042305,-37123.4393540005,41213.76423325387,-89504.91962735714,-93365.53296380276,63308.87585674415,-24162.103459717826,36192.15204881037,-102131.2655143648,-82045.060944414,-46113.78734545147,-21054.264943741393,-60258.54338944227,84399.6613105843,-79945.00727682567,-61227.193192500585,49248.352401597585,-98613.93083783753,89421.27681729237,54269.96785880157,-91356.8854476123,9075.428147483466,-90772.55593057685,-64195.833974548135,-57955.8926016913,-104338.7628846791,-90772.56417402744,74356.43037637173,-87263.72293288006,-35886.49763712531,-37619.10845741314,29161.89022869456,-74663.8341105758,-16725.976173766892,-70612.37508836958,-65867.57946883247,114529.34998352668,-31767.5240928498,-37619.106629232956,24140.274813380995,-46254.03895641357,-91844.48253549071,145663.37061187893,89421.27660731395,89421.27642733244,69334.81439281792,-967.80268424999,-53497.29577225931,-72464.15025873826,-107426.05161903625,-85311.52632221734,-17281.00937505933,-31097.496073231356,-967.8028764224287,54269.96793519763,-89639.61245707383,-52941.44352970321,-80929.3303546476,-105143.48930311418,-33440.80728820531,59291.58379906119,4053.8127188726394,-21054.264898746012,-77145.33116635939,-18041.29572044415,-20902.638295184173,89421.27648902746,33252.170784380425,74356.43025638406,6675.441550837789,19118.659279780954,-58289.8958987248,-91027.86279193753,-31414.638445538036,-90181.96611064338,49248.351343858114,-17890.64718124653,814.8706318812904,-96860.34595511536,-57305.57255969249,-38629.91929199049,-92641.61272190415,-47462.3396079087,-26075.88588401212,-46753.22563364619,-11011.033856736709,-53192.60422587623,-56205.581950988104,-100943.58554401303,-62227.18470738554,1040.8433316986798,-11011.0407011028,-53368.273339385436,-5989.41788865879,-41141.74014412341,2883.380639123951,-25807.218777737195,-1972.125905490687,-68920.58343585725,24140.274738365697,44226.736744584494,9678.021964901418,19118.65927975795,-21054.26488266422,59291.583367187835,39205.12128597673,-8901.955460218838,-26176.31285006037,25767.27824193609,-11653.800615360167,-11154.365809578157,-22297.586511407084,35187.82895802409,12088.397564631341,-66870.46942030963,-12015.357082806555,5058.135686222867,-4723.9713606242,15603.528265561421,131602.84685289912,89421.27648235582,-55727.24863019114,-78013.690033849,-44584.028003354506,-66870.46940701237,54490.91901806794,-72442.0797712241,9236.119949099366,-20732.88162605217,71283.2012429681,21448.68881948341,109618.21412495947,49328.6981882044,69334.81449748672,9075.428253853443,13283.541908478808,19118.65912312473,-967.8029580863597,59291.5833054928,4555.974120895323,1944.7340636351485,-20732.88162605217,1944.7340636351485,-20732.88162605217,54671.697101806545,21448.68881948341,56278.6139800139,133511.0607705601,25747.191629870285,-1690.9155730640578,17988.7957259948,-17338.2694593352,113525.0311747891,57157.39695939048,64313.198655865075,45833.653786073664,-2172.9905880208275,-15480.271641830881,2045.1664504372654,24140.2746633734,50596.15400552266,26290.530564153174,56278.61414329573,12088.397564631341,-44584.02799005723,-55727.24869188616,39205.1213742663,100970.99227399039,81788.41049674929,-20351.249186209083,19118.648743376867,-49878.34850558323,19118.648743376867,-49878.34850558323,49248.35234128332,27755.83798797598,25144.597842426254,-53192.60436399031,24140.27449344291,59291.58345547737,12088.397564631341,79026.53269024263,54265.95088273373,-62227.18727762423,-62227.18727762423,-2794.4945164660053,21127.30535119174,54671.697101806545,98234.21172543464,36995.610455342336,26142.895007862444,-9434.246630378635,17988.795651002507,-17338.269534327497,-13449.009391187921,21448.68881948341,-79685.1729110415,53265.64468112947,44226.73681957677,-5582.755231985611,-27869.196635643468,9075.427924184769,1944.7340636351485,-20732.88162605217,34183.50574897432,-5587.68917182363,-32697.48931248292,-11154.36589786772,104787.42007082427,47440.57082896662,98560.61675065654,43825.007579356316,4991.850361354871,-29424.2937685922,64313.19890078786,-27869.196950611116,-53192.60436399031,72950.3775971124,-66870.46948200469,69334.81449608292,-50155.63827927669,-72442.07968293453,-52383.954492227254,-67148.80387280192,-44584.028003354506,-61298.85905609791,149680.66282092727,-51183.96636533074,-47267.09797363698,49248.35268794908,1342.1406242606304,130598.523815481,48244.029282515556,69334.81449608292,-31097.495909972502,-28184.958996486454,-10207.575419101497,-67148.80455534291,29563.61957668875,-78013.69018383359,-72070.42109052674,-81913.65401090987,-32697.489334002024,-42540.72225438514,-22297.58659969665,-33440.80730152557,-52383.95517476825,-32697.48865146103,79026.53269024263,54265.95088273373,-72070.42040798574,-81913.65332836888,-27869.196950611116,-44584.028003354506,104787.42007082427,-42540.721571844144,98560.61675065654,43825.007579356316,69334.81442109065,-91756.88029790446,-31097.49598496479,-39010.78123587712,69638.07894126856,9075.428477723992,14097.043566176408,-76803.85931658927,-5989.418383450934,-32697.48996078715,-88578.00447487173,-72245.61410175821,-59274.21160234757,-11011.033763961428,-62227.18900502601,-88578.00427819056,34236.494077799485,9075.428150862848,33179.18315626514,-6099.893849905298,-11011.033903753707,29161.890333660765,24140.274650076128,-61227.189195071005,109507.7386585051,29161.890333660765,44561.73768626922,-33440.80722653329,74456.86232679176,109507.73889848046,89421.27656399675,9075.42823915241,9075.416479603047,-46162.354243727445,105490.44614732469,99464.50754290727,9075.428492425024,119550.96969911066,-11011.042436164136,-11011.03976086563,-82897.97363972868,89421.27446250118,-36119.12149970551,-80793.75304429494,-39010.78122257986,-11011.039871501462,42218.090958121415,-59471.08010115924,54269.96793517463,-27775.87215164508,-63275.69362034395,-55336.919592592625,-81913.6539848535,-71270.42451598901,-33479.85077211503,4053.81265715461,-34124.177514451585,-36119.11787820231,-53368.28141728587,9075.428632217303,46235.382805825975,39205.10985240774,-46254.03902692014,-46162.34257387141,-47462.33667179866,-91356.88473277309,-63235.83599453863,41715.92911941923,-50415.30836317795,5203.791379102954,-47702.69028984376,-101400.11638614228,-91356.88976030747,24140.274801464486,66321.8449003343,-33106.14213139088,24140.2746633734,-11011.033978746002,-20732.88162605217,-26075.890952645354,-36119.12199325089,103481.80027411712,81989.28584722127,156108.3305969241,102597.99561257775,1944.7340636351485,44226.73681957677,30467.51035564221,-8901.955323531514,4991.850361354871,-29424.2937685922,96149.2369631061,-11914.924710705473,19118.659218062927,4053.81265715461,-465.64131111788527,19118.659218062927,-11965.140927603528,49248.35233987956,94744.18903021872,29563.61957668875,65317.522079840695,33179.18274990298,89521.70881270777,49248.35233987956,34183.50577897124,-40638.56547354007,94744.18902881494,29563.619575284985,94744.18872884578,74055.13278519837,64413.63121119391,29412.97103468361,5208.78415183195,-57209.896690539215,59291.5833054928,-55727.24878017574,-31097.496059957088,29161.890333660765,99464.50761789955,29161.890333660765,-11011.033978746002,-42145.05020462319,99464.50761789955,29161.890333660765,99464.50761789955,39280.44545708625,-11011.033903753707,-86335.26670829528,15603.52827885869,-4723.971347326933,109618.21412495947,49328.6981882044,-5989.418458443229,-38.80406688444571,-72442.07983291915,29161.890333660765,-12015.357082806555,-51183.95814116817,81953.12988550898,34036.87459077994,119550.96969911066,39205.1213742663,39466.24527633283,-1690.91552806868,99464.50761789955,59291.5833054928,49248.352401574586,19118.65927975795,-44153.7068390326,-59218.55339994092,43222.413715516224,15101.366801820708,18114.336039010075,39205.12122428171,89421.27267411735],\"z\":[30.37771561773616,37.91812157685264,24.012419240958803,13.103271827467253,-10.679850297996754,-26.562645467663675,-4.841814017883942,-1.0826111199746262,-17.086159309448217,1.4724014713883524,19.562134933311835,-11.831440322854945,18.000393701819334,-21.506651581464606,-20.348758562600036,-5.044180422441253,6.299530475842867,1.0864276366926655,-19.681916975820293,32.46188157535461,4.987354950994487,15.615535045211484,56.29256779374168,-8.187071227177606,-7.99962772963674,-22.639085933486655,48.79900135344474,27.030718435229343,-27.55214279424723,-0.3807224796614133,17.57799458651703,44.259187888997694,-20.701029740132252,5.290550802238409,-16.86380004415541,-12.55666256454506,-19.842387612204636,24.305981513638145,-15.190173406782764,-20.49128166210019,25.902170572409027,23.53123819216435,21.617990080100636,-7.441691384890087,-19.979847763410444,21.44985234594754,0.17564334662269657,-23.5349104243362,21.379090748122927,4.188037637762834,-24.358333161517454,43.083408274945214,19.21272766892487,-17.907995605244526,-17.607007375828786,-14.665132019364844,-19.853863758241776,11.455644997961745,0.258412252292261,14.612411404902803,28.053434419576117,26.210867651753738,-6.554236867418411,-19.961883070270908,47.25523334431642,12.016542990050356,18.2954603727313,25.252691877483112,6.278987291252959,1.6795319760615495,19.522149251898625,-23.061600882818464,-1.5067702180058526,8.185568890286666,-25.29210992570704,28.67982637682478,-15.077773715689942,24.818240930273088,22.291848558578444,9.537644806074077,-20.263098658843553,18.996518607424,-20.395038694351534,-8.302251064676176,12.245003592754722,28.013421836773542,29.207914419263663,3.876119909049637,8.72348106250268,3.3318939066298467,-18.56051822176639,-1.5035514257480551,-27.01981236028395,6.593024690108508,-26.10660302804353,-13.501705707931299,-20.889064326420126,-28.178211215583378,-25.083735230664036,16.281504862140345,58.94941520182948,-19.07862442544029,-13.50146173730523,2.7130971316422605,34.06371468922289,25.84610397766388,25.72641252046737,-28.761784669111144,-12.00362232248782,1.7046176915296518,-9.170553185788375,14.78198674743814,-23.698321195434943,-5.516505157813722,2.7227753077901915,-1.6431653660798113,-30.07274420464516,22.62105083653086,13.944631489297612,-9.300144232153194,-15.062067847276383,1.7551571059915656,5.5815277810384964,5.738698096693777,16.80976773819635,19.08889754803956,-33.7486966899456,30.146542214023082,-20.763199686480196,-23.7160419179484,-1.9495226121673201,-1.6155914504843374,1.6778378575170632,-23.950533176398334,-16.54533447016731,1.3768278286065085,-13.36754803300043,-23.569379767748156,-21.45195275427409,45.06354978517245,24.41132500623873,-23.045497513920125,-12.889484605106617,23.11748381957705,21.10644275282877,-12.813196610763486,39.29884110445482,-33.17782480118744,-13.921201863995442,46.397523562623924,1.2695233131293684,-18.550411366105088,-14.63281498847118,8.549264234413055,-14.422733134897536,-7.322376152737622,27.48977949105844,37.03061579617802,-10.306442518877025,-24.621565521678765,3.533218415807124,-30.214831578712158,-13.618386630974776,-10.4312971116827,20.942169527807867,-28.478955474373052,4.0681549969861175,-12.715353643332644,-9.543040609849939,-12.035210015568486,3.4124249733375365,-21.644411930913744,-14.118188627411786,0.7530207382983318,31.428775577194425,-26.863233075077318,19.61156052082834,-17.5722347727003,-2.575096620616044,-10.583243444876047,21.981733493705143,-0.0387846625972301,7.888648538144741,8.12989097741399,26.664540140284707,-9.351971373968757,-9.14056758505733,45.82306500636628,-13.291504009283363,-8.221734948003018,5.027533053468639,-10.547712459341637,-22.75921747091885,34.05530060544538,-3.3790414704189193,18.895640009739225,2.1143695073853386,-11.21989582174352,31.887734887172986,-2.7166707361528415,-11.111144597836176,-15.046915645803002,-18.550655336731154,-25.20110718181372,23.630820346431587,17.345485439986003,11.170869895881987,24.88607832451184,-4.0337264761749365,20.189957926426334,31.428775577194425,45.861775167493064,-15.363565817439076,-15.264273826063535,26.037472909796936,3.6266107233691267,18.2326284368585,29.58775957677929,40.99917195891682,31.15392001178315,-15.221234472746001,37.367591685519045,0.27969678933144254,5.939352509255361,-4.5948781851850224,-6.204770284355467,-8.837752352036663,-18.113870279274593,41.20402263311713,20.082621898623792,-37.44743379478779,2.0374503066003564,43.28844357112772,-25.309830648220508,-19.858407994628053,-10.440600193807889,15.197808775368093,19.614815025607463,17.371006590460407,-33.643290362398865,22.694498778854364,-6.557957319948793,-18.390847240150677,-22.356744446126232,3.2281546779223795,-23.238222460680667,40.569724854494105,-5.516505157813722,45.73340938203186,-5.1069878756219,38.591869086418384,-16.000530100681626,26.515722262767568,2.3270647023260076,8.251009583754419,-2.9685718671750907,-2.394126080372437,-22.54328694400555,-19.57530982916481,-32.539977805737315,27.37785783790942,-25.816724091413285,31.16601734885899,29.207426478011513,14.06608935980189,22.75787964203749,-20.763443657106272,-27.456575618245694,18.63330302804662,-32.430796625190155,-1.6805047068162073,-19.539699042698846,27.246451206933813,-8.785202871994573,-16.246944976102085,34.41030818700673,8.153976295933859,-16.120121086360527,-19.34697409593831,6.159514399848721,-15.89632311316056,-13.380021968522836,-18.861815941705203,-16.004830366441823,-22.379009405025972,-10.301439702512031,-13.488529221804107,-21.809873747050375,-24.55077073364156,-14.967380487443549,-20.904928261884674,26.90059889361629,25.130792890682397,-13.472635502895569,-17.137788450081448,17.415734008067293,-22.30387262254065,-19.59484653114238,-21.129482375150225,-17.904147781626648,1.1808209428831267,-5.512067047630228,19.838851633768137,16.29923962790036,20.93786926204767,17.39825725617989,-10.409842474855884,16.53083100660035,-17.590355161820927,-23.687069473913397,-8.416224011382068,-16.323393108745698,-2.3336636638131427,-11.899712855968302,-8.054827290725113,-17.616095848601333,-18.28973337299227,-17.33766873980683,-20.52475825909891,-10.989704829053784,-19.657047017237286,-20.08884540663265,-23.687069473913397,-20.08884540663265,-23.687069473913397,-11.051947043836604,-16.323393108745698,-11.450291505060196,1.4573793193847795,-16.312144326271543,-20.665708609624513,-16.872369278443767,-22.47766297049869,0.05649014962157255,-8.88727981389181,-11.508294070708374,-12.454266432325124,-20.07141038343318,-21.51206881530982,-19.402365555007908,-16.56711148781491,-11.161976807577492,-15.018514480396863,-10.126191507638891,-17.137788450081448,20.920392510160276,19.150586507226386,-12.835217599037149,-3.034917327214029,56.396277334581725,40.189927128981516,45.91592733466696,34.96827483589869,45.91592733466696,34.96827483589869,-11.912705184671541,-14.651858625033634,-15.736968637195957,-28.819685414575922,-17.882473109292516,-9.648128079745076,-17.137788450081448,-4.3702898281466975,-8.299015078578034,18.080784178023368,18.080784178023368,47.07609638152727,-17.04517491570872,-11.051947043836604,-4.274104323802793,-13.990743495744503,-15.578570288087137,-21.22354324465726,-17.543157653098103,-23.148451345153045,8.477391943352027,-16.323393108745698,18.197524307615524,-11.945831684841401,-12.70923359386849,29.94950144586454,26.409889439996775,-20.415686299636143,-20.08884540663265,-23.687069473913397,-14.571093703376265,-20.881530951574575,30.393379111466707,26.247287270849323,-2.4296142891746064,-11.528754866753472,-4.088400414809498,-12.7732193548804,-19.605363926556045,-25.066123108911082,-9.522144074576412,23.592578266448506,-28.819685414575922,-8.151939551906894,16.727468881525542,-8.054583320099042,20.723754635235068,17.184142629367308,18.43486236451196,16.09261647321233,20.93786926204767,18.28316025764684,4.693774757069248,22.811823430921297,-27.208949602356483,-8.675444234443258,-16.27665273795485,1.5493587906983046,-11.51770823839919,-8.054583320099042,-23.9900309165594,-24.18121455902902,-21.346490161776078,20.250497808451033,-14.36526453892342,14.957662878591659,18.798960803363478,17.237463542497046,25.715738221483537,24.154240960617102,24.477481267915437,22.707675264981553,22.592743699750677,21.55785688624482,-4.3702898281466975,-8.299015078578034,14.641079468124765,13.079582207258337,23.592578266448506,20.93786926204767,-2.4296142891746064,19.99635962537839,-4.088400414809498,-12.7732193548804,-8.725371694753392,-19.33209554916602,-24.660819291213762,41.87934585102341,57.45114480814327,-15.45160835656787,-18.394018093547903,-27.13676587360399,-20.67695739209867,33.65694139867008,0.6000438452817832,3.517839317023246,-13.794158315401594,-19.963285814533393,26.576579341684873,2.4957280462013602,45.885014871732245,-18.25168674885482,-10.16933120231735,-20.023698009800427,-21.47372977192169,-14.42876235868319,-16.549634735927516,-30.09476519291883,-1.6804042815148954,-14.42876235868319,35.7671056601731,23.378463639635903,-7.241875492679566,0.4661185173790243,-4.850017048919573,-17.598375126087866,57.599893589880374,48.835397411827174,-2.9623954321965704,-3.9447374158152866,-15.469329079081339,-0.08685952186886049,31.42587484128419,14.57538362134631,-6.514500209926763,9.332253353689293,41.59635515184595,-18.350275286728767,41.86186909913603,15.295476828789791,-9.790681595569414,4.928711820832245,-10.444900459568098,29.385851282111556,36.04886625627113,-6.303947232001659,20.904348432027476,-3.5590300631140925,48.76330630622063,-19.08341263245264,46.53283525167886,9.650711974957042,47.606246657493145,-13.958885121693042,-14.251499309710141,54.63534281422109,36.843649530670604,-27.015938956281946,15.735145194137175,-20.04001380099251,-24.651438948253197,-12.570989084056515,21.519082706844387,45.409210398003175,38.49312499498256,-18.40281653303514,10.387169915039621,-15.208301957244878,-11.08188654230546,-24.29126311660122,-16.56711148781491,-22.144518146576033,-23.687069473913397,38.762452668147205,37.168907908501154,-0.49000833840859714,-3.9001941240511164,4.908697353657489,-3.581709125736589,-20.08884540663265,-12.70923359386849,-14.204124788041804,-20.450820245854274,-19.605363926556045,-25.066123108911082,-4.453289789087044,-21.59967204840244,-16.693095492983577,-19.08341263245264,-19.800507774293347,-16.693095492983577,-22.295904898742414,-11.912461214045466,-4.023159048820639,-14.36526453892342,-8.692001223957456,-13.791344454824776,-5.522346727864863,-11.912461214045466,-14.302778353514524,-26.174686812877496,-4.022915078194573,-14.365020568297348,-6.706068576811976,-9.988770781682813,-9.506208626979953,-15.059712114346393,-19.570943359747695,-28.804035666293462,-10.989704829053784,18.497274884459426,-25.331607665868116,-14.42876235868319,-3.273949041160933,-14.42876235868319,-22.144518146576033,-27.08450690147875,-3.273949041160933,-14.42876235868319,-3.273949041160933,-14.164842762648513,-21.47372977192169,-33.42531546926696,-17.92162453351404,-21.146959127037626,-2.3336636638131427,-11.899712855968302,-21.347745766753025,-20.403570496662745,15.842565880058604,-14.42876235868319,-22.30387262254065,-28.51869718516018,-6.857399733664985,-14.460201781936226,-0.08685952186886049,-12.835217599037149,-13.73288915980245,-20.263235584831904,-3.273949041160933,-10.989704829053784,-11.224196087503714,-16.004830366441823,35.91154885267171,33.52123171320266,-12.868588069833091,-17.330513396841987,-17.523238343602532,-14.176794348345855,13.696797777429692],\"type\":\"scatter3d\"},{\"hovertemplate\":\"color=normal<br>Axe 1=%{x}<br>Axe 2=%{y}<br>Axe 3=%{z}<extra></extra>\",\"legendgroup\":\"normal\",\"marker\":{\"color\":\"#EF553B\",\"symbol\":\"circle\"},\"mode\":\"markers\",\"name\":\"normal\",\"scene\":\"scene\",\"showlegend\":true,\"x\":[-930.8779174951292,-930.8779419383901,-827.2603746510276,123630.00361863546,85794.995361166,123630.00361493773,96747.23458906537,89777.62781320025,-1822.9184880837397,53933.935776528895,78825.38857628923],\"y\":[214857.1426775989,214857.1449894045,214961.664608555,340502.0529813322,302337.7746367738,340502.0526691492,313385.3284995512,306355.0674078286,213957.34138586457,270199.43502462696,295307.51279112377],\"z\":[28.404595061968916,12.781116517478537,15.489348349538666,38.61994763813738,28.924499605835486,35.79784825757676,28.27549320819158,32.936283122554215,14.247887971980624,21.26707207850909,26.726668401863748],\"type\":\"scatter3d\"},{\"hovertemplate\":\"color=high<br>Axe 1=%{x}<br>Axe 2=%{y}<br>Axe 3=%{z}<extra></extra>\",\"legendgroup\":\"high\",\"marker\":{\"color\":\"#00cc96\",\"symbol\":\"circle\"},\"mode\":\"markers\",\"name\":\"high\",\"scene\":\"scene\",\"showlegend\":true,\"x\":[272978.72040508984],\"y\":[491150.51854155585],\"z\":[62.12459617696668],\"type\":\"scatter3d\"}],                        {\"template\":{\"data\":{\"histogram2dcontour\":[{\"type\":\"histogram2dcontour\",\"colorbar\":{\"outlinewidth\":0,\"ticks\":\"\"},\"colorscale\":[[0.0,\"#0d0887\"],[0.1111111111111111,\"#46039f\"],[0.2222222222222222,\"#7201a8\"],[0.3333333333333333,\"#9c179e\"],[0.4444444444444444,\"#bd3786\"],[0.5555555555555556,\"#d8576b\"],[0.6666666666666666,\"#ed7953\"],[0.7777777777777778,\"#fb9f3a\"],[0.8888888888888888,\"#fdca26\"],[1.0,\"#f0f921\"]]}],\"choropleth\":[{\"type\":\"choropleth\",\"colorbar\":{\"outlinewidth\":0,\"ticks\":\"\"}}],\"histogram2d\":[{\"type\":\"histogram2d\",\"colorbar\":{\"outlinewidth\":0,\"ticks\":\"\"},\"colorscale\":[[0.0,\"#0d0887\"],[0.1111111111111111,\"#46039f\"],[0.2222222222222222,\"#7201a8\"],[0.3333333333333333,\"#9c179e\"],[0.4444444444444444,\"#bd3786\"],[0.5555555555555556,\"#d8576b\"],[0.6666666666666666,\"#ed7953\"],[0.7777777777777778,\"#fb9f3a\"],[0.8888888888888888,\"#fdca26\"],[1.0,\"#f0f921\"]]}],\"heatmap\":[{\"type\":\"heatmap\",\"colorbar\":{\"outlinewidth\":0,\"ticks\":\"\"},\"colorscale\":[[0.0,\"#0d0887\"],[0.1111111111111111,\"#46039f\"],[0.2222222222222222,\"#7201a8\"],[0.3333333333333333,\"#9c179e\"],[0.4444444444444444,\"#bd3786\"],[0.5555555555555556,\"#d8576b\"],[0.6666666666666666,\"#ed7953\"],[0.7777777777777778,\"#fb9f3a\"],[0.8888888888888888,\"#fdca26\"],[1.0,\"#f0f921\"]]}],\"heatmapgl\":[{\"type\":\"heatmapgl\",\"colorbar\":{\"outlinewidth\":0,\"ticks\":\"\"},\"colorscale\":[[0.0,\"#0d0887\"],[0.1111111111111111,\"#46039f\"],[0.2222222222222222,\"#7201a8\"],[0.3333333333333333,\"#9c179e\"],[0.4444444444444444,\"#bd3786\"],[0.5555555555555556,\"#d8576b\"],[0.6666666666666666,\"#ed7953\"],[0.7777777777777778,\"#fb9f3a\"],[0.8888888888888888,\"#fdca26\"],[1.0,\"#f0f921\"]]}],\"contourcarpet\":[{\"type\":\"contourcarpet\",\"colorbar\":{\"outlinewidth\":0,\"ticks\":\"\"}}],\"contour\":[{\"type\":\"contour\",\"colorbar\":{\"outlinewidth\":0,\"ticks\":\"\"},\"colorscale\":[[0.0,\"#0d0887\"],[0.1111111111111111,\"#46039f\"],[0.2222222222222222,\"#7201a8\"],[0.3333333333333333,\"#9c179e\"],[0.4444444444444444,\"#bd3786\"],[0.5555555555555556,\"#d8576b\"],[0.6666666666666666,\"#ed7953\"],[0.7777777777777778,\"#fb9f3a\"],[0.8888888888888888,\"#fdca26\"],[1.0,\"#f0f921\"]]}],\"surface\":[{\"type\":\"surface\",\"colorbar\":{\"outlinewidth\":0,\"ticks\":\"\"},\"colorscale\":[[0.0,\"#0d0887\"],[0.1111111111111111,\"#46039f\"],[0.2222222222222222,\"#7201a8\"],[0.3333333333333333,\"#9c179e\"],[0.4444444444444444,\"#bd3786\"],[0.5555555555555556,\"#d8576b\"],[0.6666666666666666,\"#ed7953\"],[0.7777777777777778,\"#fb9f3a\"],[0.8888888888888888,\"#fdca26\"],[1.0,\"#f0f921\"]]}],\"mesh3d\":[{\"type\":\"mesh3d\",\"colorbar\":{\"outlinewidth\":0,\"ticks\":\"\"}}],\"scatter\":[{\"fillpattern\":{\"fillmode\":\"overlay\",\"size\":10,\"solidity\":0.2},\"type\":\"scatter\"}],\"parcoords\":[{\"type\":\"parcoords\",\"line\":{\"colorbar\":{\"outlinewidth\":0,\"ticks\":\"\"}}}],\"scatterpolargl\":[{\"type\":\"scatterpolargl\",\"marker\":{\"colorbar\":{\"outlinewidth\":0,\"ticks\":\"\"}}}],\"bar\":[{\"error_x\":{\"color\":\"#2a3f5f\"},\"error_y\":{\"color\":\"#2a3f5f\"},\"marker\":{\"line\":{\"color\":\"#E5ECF6\",\"width\":0.5},\"pattern\":{\"fillmode\":\"overlay\",\"size\":10,\"solidity\":0.2}},\"type\":\"bar\"}],\"scattergeo\":[{\"type\":\"scattergeo\",\"marker\":{\"colorbar\":{\"outlinewidth\":0,\"ticks\":\"\"}}}],\"scatterpolar\":[{\"type\":\"scatterpolar\",\"marker\":{\"colorbar\":{\"outlinewidth\":0,\"ticks\":\"\"}}}],\"histogram\":[{\"marker\":{\"pattern\":{\"fillmode\":\"overlay\",\"size\":10,\"solidity\":0.2}},\"type\":\"histogram\"}],\"scattergl\":[{\"type\":\"scattergl\",\"marker\":{\"colorbar\":{\"outlinewidth\":0,\"ticks\":\"\"}}}],\"scatter3d\":[{\"type\":\"scatter3d\",\"line\":{\"colorbar\":{\"outlinewidth\":0,\"ticks\":\"\"}},\"marker\":{\"colorbar\":{\"outlinewidth\":0,\"ticks\":\"\"}}}],\"scattermapbox\":[{\"type\":\"scattermapbox\",\"marker\":{\"colorbar\":{\"outlinewidth\":0,\"ticks\":\"\"}}}],\"scatterternary\":[{\"type\":\"scatterternary\",\"marker\":{\"colorbar\":{\"outlinewidth\":0,\"ticks\":\"\"}}}],\"scattercarpet\":[{\"type\":\"scattercarpet\",\"marker\":{\"colorbar\":{\"outlinewidth\":0,\"ticks\":\"\"}}}],\"carpet\":[{\"aaxis\":{\"endlinecolor\":\"#2a3f5f\",\"gridcolor\":\"white\",\"linecolor\":\"white\",\"minorgridcolor\":\"white\",\"startlinecolor\":\"#2a3f5f\"},\"baxis\":{\"endlinecolor\":\"#2a3f5f\",\"gridcolor\":\"white\",\"linecolor\":\"white\",\"minorgridcolor\":\"white\",\"startlinecolor\":\"#2a3f5f\"},\"type\":\"carpet\"}],\"table\":[{\"cells\":{\"fill\":{\"color\":\"#EBF0F8\"},\"line\":{\"color\":\"white\"}},\"header\":{\"fill\":{\"color\":\"#C8D4E3\"},\"line\":{\"color\":\"white\"}},\"type\":\"table\"}],\"barpolar\":[{\"marker\":{\"line\":{\"color\":\"#E5ECF6\",\"width\":0.5},\"pattern\":{\"fillmode\":\"overlay\",\"size\":10,\"solidity\":0.2}},\"type\":\"barpolar\"}],\"pie\":[{\"automargin\":true,\"type\":\"pie\"}]},\"layout\":{\"autotypenumbers\":\"strict\",\"colorway\":[\"#636efa\",\"#EF553B\",\"#00cc96\",\"#ab63fa\",\"#FFA15A\",\"#19d3f3\",\"#FF6692\",\"#B6E880\",\"#FF97FF\",\"#FECB52\"],\"font\":{\"color\":\"#2a3f5f\"},\"hovermode\":\"closest\",\"hoverlabel\":{\"align\":\"left\"},\"paper_bgcolor\":\"white\",\"plot_bgcolor\":\"#E5ECF6\",\"polar\":{\"bgcolor\":\"#E5ECF6\",\"angularaxis\":{\"gridcolor\":\"white\",\"linecolor\":\"white\",\"ticks\":\"\"},\"radialaxis\":{\"gridcolor\":\"white\",\"linecolor\":\"white\",\"ticks\":\"\"}},\"ternary\":{\"bgcolor\":\"#E5ECF6\",\"aaxis\":{\"gridcolor\":\"white\",\"linecolor\":\"white\",\"ticks\":\"\"},\"baxis\":{\"gridcolor\":\"white\",\"linecolor\":\"white\",\"ticks\":\"\"},\"caxis\":{\"gridcolor\":\"white\",\"linecolor\":\"white\",\"ticks\":\"\"}},\"coloraxis\":{\"colorbar\":{\"outlinewidth\":0,\"ticks\":\"\"}},\"colorscale\":{\"sequential\":[[0.0,\"#0d0887\"],[0.1111111111111111,\"#46039f\"],[0.2222222222222222,\"#7201a8\"],[0.3333333333333333,\"#9c179e\"],[0.4444444444444444,\"#bd3786\"],[0.5555555555555556,\"#d8576b\"],[0.6666666666666666,\"#ed7953\"],[0.7777777777777778,\"#fb9f3a\"],[0.8888888888888888,\"#fdca26\"],[1.0,\"#f0f921\"]],\"sequentialminus\":[[0.0,\"#0d0887\"],[0.1111111111111111,\"#46039f\"],[0.2222222222222222,\"#7201a8\"],[0.3333333333333333,\"#9c179e\"],[0.4444444444444444,\"#bd3786\"],[0.5555555555555556,\"#d8576b\"],[0.6666666666666666,\"#ed7953\"],[0.7777777777777778,\"#fb9f3a\"],[0.8888888888888888,\"#fdca26\"],[1.0,\"#f0f921\"]],\"diverging\":[[0,\"#8e0152\"],[0.1,\"#c51b7d\"],[0.2,\"#de77ae\"],[0.3,\"#f1b6da\"],[0.4,\"#fde0ef\"],[0.5,\"#f7f7f7\"],[0.6,\"#e6f5d0\"],[0.7,\"#b8e186\"],[0.8,\"#7fbc41\"],[0.9,\"#4d9221\"],[1,\"#276419\"]]},\"xaxis\":{\"gridcolor\":\"white\",\"linecolor\":\"white\",\"ticks\":\"\",\"title\":{\"standoff\":15},\"zerolinecolor\":\"white\",\"automargin\":true,\"zerolinewidth\":2},\"yaxis\":{\"gridcolor\":\"white\",\"linecolor\":\"white\",\"ticks\":\"\",\"title\":{\"standoff\":15},\"zerolinecolor\":\"white\",\"automargin\":true,\"zerolinewidth\":2},\"scene\":{\"xaxis\":{\"backgroundcolor\":\"#E5ECF6\",\"gridcolor\":\"white\",\"linecolor\":\"white\",\"showbackground\":true,\"ticks\":\"\",\"zerolinecolor\":\"white\",\"gridwidth\":2},\"yaxis\":{\"backgroundcolor\":\"#E5ECF6\",\"gridcolor\":\"white\",\"linecolor\":\"white\",\"showbackground\":true,\"ticks\":\"\",\"zerolinecolor\":\"white\",\"gridwidth\":2},\"zaxis\":{\"backgroundcolor\":\"#E5ECF6\",\"gridcolor\":\"white\",\"linecolor\":\"white\",\"showbackground\":true,\"ticks\":\"\",\"zerolinecolor\":\"white\",\"gridwidth\":2}},\"shapedefaults\":{\"line\":{\"color\":\"#2a3f5f\"}},\"annotationdefaults\":{\"arrowcolor\":\"#2a3f5f\",\"arrowhead\":0,\"arrowwidth\":1},\"geo\":{\"bgcolor\":\"white\",\"landcolor\":\"#E5ECF6\",\"subunitcolor\":\"white\",\"showland\":true,\"showlakes\":true,\"lakecolor\":\"white\"},\"title\":{\"x\":0.05},\"mapbox\":{\"style\":\"light\"}}},\"scene\":{\"domain\":{\"x\":[0.0,1.0],\"y\":[0.0,1.0]},\"xaxis\":{\"title\":{\"text\":\"Axe 1\"}},\"yaxis\":{\"title\":{\"text\":\"Axe 2\"}},\"zaxis\":{\"title\":{\"text\":\"Axe 3\"}}},\"legend\":{\"title\":{\"text\":\"color\"},\"tracegroupgap\":0},\"title\":{\"text\":\"Total Explained Variance: 100.00%\"}},                        {\"responsive\": true}                    ).then(function(){\n",
       "                            \n",
       "var gd = document.getElementById('00ed2856-767c-499a-a52d-42744a112821');\n",
       "var x = new MutationObserver(function (mutations, observer) {{\n",
       "        var display = window.getComputedStyle(gd).display;\n",
       "        if (!display || display === 'none') {{\n",
       "            console.log([gd, 'removed!']);\n",
       "            Plotly.purge(gd);\n",
       "            observer.disconnect();\n",
       "        }}\n",
       "}});\n",
       "\n",
       "// Listen for the removal of the full notebook cells\n",
       "var notebookContainer = gd.closest('#notebook-container');\n",
       "if (notebookContainer) {{\n",
       "    x.observe(notebookContainer, {childList: true});\n",
       "}}\n",
       "\n",
       "// Listen for the clearing of the current output cell\n",
       "var outputEl = gd.closest('.output');\n",
       "if (outputEl) {{\n",
       "    x.observe(outputEl, {childList: true});\n",
       "}}\n",
       "\n",
       "                        })                };                });            </script>        </div>"
      ]
     },
     "metadata": {},
     "output_type": "display_data"
    }
   ],
   "source": [
    "fig = px.scatter_3d(\n",
    "    components, x=0, y=1, z=2, color=ds_salary_new['salary_category'],\n",
    "    title=f'Total Explained Variance: {total_var:.2f}%',\n",
    "    labels={'0': 'Axe 1', '1': 'Axe 2', '2': 'Axe 3'}\n",
    ")\n",
    "fig.show()"
   ]
  },
  {
   "cell_type": "markdown",
   "id": "1ce512d3-1f49-412e-9fc2-833106bfdfbf",
   "metadata": {},
   "source": [
    "**14. Identifier les colonnes les plus corrélées. Commenter!**"
   ]
  },
  {
   "cell_type": "code",
   "execution_count": 172,
   "id": "bd796ddc-cfd2-4c99-ba49-b30a1d9d4bf6",
   "metadata": {},
   "outputs": [
    {
     "data": {
      "text/html": [
       "<div>\n",
       "<style scoped>\n",
       "    .dataframe tbody tr th:only-of-type {\n",
       "        vertical-align: middle;\n",
       "    }\n",
       "\n",
       "    .dataframe tbody tr th {\n",
       "        vertical-align: top;\n",
       "    }\n",
       "\n",
       "    .dataframe thead th {\n",
       "        text-align: right;\n",
       "    }\n",
       "</style>\n",
       "<table border=\"1\" class=\"dataframe\">\n",
       "  <thead>\n",
       "    <tr style=\"text-align: right;\">\n",
       "      <th></th>\n",
       "      <th>work_year</th>\n",
       "      <th>experience_level</th>\n",
       "      <th>employment_type</th>\n",
       "      <th>job_title</th>\n",
       "      <th>company_location</th>\n",
       "      <th>salary_in_usd</th>\n",
       "    </tr>\n",
       "  </thead>\n",
       "  <tbody>\n",
       "    <tr>\n",
       "      <th>work_year</th>\n",
       "      <td>1.000000</td>\n",
       "      <td>0.309433</td>\n",
       "      <td>-0.047712</td>\n",
       "      <td>-0.172249</td>\n",
       "      <td>0.180136</td>\n",
       "      <td>0.153284</td>\n",
       "    </tr>\n",
       "    <tr>\n",
       "      <th>experience_level</th>\n",
       "      <td>0.309433</td>\n",
       "      <td>1.000000</td>\n",
       "      <td>-0.100027</td>\n",
       "      <td>0.011577</td>\n",
       "      <td>0.275855</td>\n",
       "      <td>0.335030</td>\n",
       "    </tr>\n",
       "    <tr>\n",
       "      <th>employment_type</th>\n",
       "      <td>-0.047712</td>\n",
       "      <td>-0.100027</td>\n",
       "      <td>1.000000</td>\n",
       "      <td>-0.093235</td>\n",
       "      <td>-0.096390</td>\n",
       "      <td>-0.133320</td>\n",
       "    </tr>\n",
       "    <tr>\n",
       "      <th>job_title</th>\n",
       "      <td>-0.172249</td>\n",
       "      <td>0.011577</td>\n",
       "      <td>-0.093235</td>\n",
       "      <td>1.000000</td>\n",
       "      <td>-0.142934</td>\n",
       "      <td>0.099667</td>\n",
       "    </tr>\n",
       "    <tr>\n",
       "      <th>company_location</th>\n",
       "      <td>0.180136</td>\n",
       "      <td>0.275855</td>\n",
       "      <td>-0.096390</td>\n",
       "      <td>-0.142934</td>\n",
       "      <td>1.000000</td>\n",
       "      <td>0.467503</td>\n",
       "    </tr>\n",
       "    <tr>\n",
       "      <th>salary_in_usd</th>\n",
       "      <td>0.153284</td>\n",
       "      <td>0.335030</td>\n",
       "      <td>-0.133320</td>\n",
       "      <td>0.099667</td>\n",
       "      <td>0.467503</td>\n",
       "      <td>1.000000</td>\n",
       "    </tr>\n",
       "  </tbody>\n",
       "</table>\n",
       "</div>"
      ],
      "text/plain": [
       "                  work_year  experience_level  employment_type  job_title  \\\n",
       "work_year          1.000000          0.309433        -0.047712  -0.172249   \n",
       "experience_level   0.309433          1.000000        -0.100027   0.011577   \n",
       "employment_type   -0.047712         -0.100027         1.000000  -0.093235   \n",
       "job_title         -0.172249          0.011577        -0.093235   1.000000   \n",
       "company_location   0.180136          0.275855        -0.096390  -0.142934   \n",
       "salary_in_usd      0.153284          0.335030        -0.133320   0.099667   \n",
       "\n",
       "                  company_location  salary_in_usd  \n",
       "work_year                 0.180136       0.153284  \n",
       "experience_level          0.275855       0.335030  \n",
       "employment_type          -0.096390      -0.133320  \n",
       "job_title                -0.142934       0.099667  \n",
       "company_location          1.000000       0.467503  \n",
       "salary_in_usd             0.467503       1.000000  "
      ]
     },
     "execution_count": 172,
     "metadata": {},
     "output_type": "execute_result"
    }
   ],
   "source": [
    "#Do after deletion of less important feature\n",
    "ds_salary_new_important.corr()"
   ]
  },
  {
   "cell_type": "code",
   "execution_count": 175,
   "id": "2b4f40a6-4fa6-4075-b6c5-21a9d5b62e5d",
   "metadata": {},
   "outputs": [
    {
     "data": {
      "text/plain": [
       "<AxesSubplot:>"
      ]
     },
     "execution_count": 175,
     "metadata": {},
     "output_type": "execute_result"
    },
    {
     "data": {
      "image/png": "[encoded data removed]",
      "text/plain": [
       "<Figure size 432x288 with 2 Axes>"
      ]
     },
     "metadata": {
      "needs_background": "light"
     },
     "output_type": "display_data"
    }
   ],
   "source": [
    "import seaborn as sns #Visualization\n",
    "corr=ds_salary_new_important.corr()\n",
    "sns.heatmap(corr,cmap='Wistia',annot=True)"
   ]
  },
  {
   "cell_type": "markdown",
   "id": "8e2b46d9-34ca-4c21-9e1a-577e3f8e84ae",
   "metadata": {},
   "source": [
    "le tableau precedent nous dit qu'il n'y a aucune correlation entre ces variables"
   ]
  },
  {
   "cell_type": "markdown",
   "id": "8dd97f9e-efa2-4658-9a1a-50a95b1e66ec",
   "metadata": {},
   "source": [
    "**15. Développer un modèle prédictif (une régression) afin de prévoir le salaire d’une catégorie des\n",
    "data scientistes en 2025.***"
   ]
  },
  {
   "cell_type": "code",
   "execution_count": 176,
   "id": "f0e15c28-c420-4bf9-9419-67bc30815802",
   "metadata": {},
   "outputs": [],
   "source": [
    "import numpy as np\n",
    "import pandas as pd\n",
    "import seaborn as sns\n",
    "import matplotlib.pyplot as plt\n",
    "from colorama import Fore, Back, Style\n",
    "from statsmodels.stats.outliers_influence import variance_inflation_factor"
   ]
  },
  {
   "cell_type": "code",
   "execution_count": 187,
   "id": "a7e86876-eda0-43dd-94cb-f753306075c5",
   "metadata": {},
   "outputs": [
    {
     "data": {
      "text/plain": [
       "Index(['work_year', 'experience_level', 'employment_type', 'job_title',\n",
       "       'company_location', 'salary_in_usd'],\n",
       "      dtype='object')"
      ]
     },
     "execution_count": 187,
     "metadata": {},
     "output_type": "execute_result"
    }
   ],
   "source": [
    "ds_salary_new_important.columns"
   ]
  },
  {
   "cell_type": "code",
   "execution_count": 203,
   "id": "c551cd09-cfe2-4755-adf0-908388799784",
   "metadata": {},
   "outputs": [
    {
     "data": {
      "image/png": "[encoded data removed]",
      "text/plain": [
       "<Figure size 1800x1440 with 5 Axes>"
      ]
     },
     "metadata": {
      "needs_background": "light"
     },
     "output_type": "display_data"
    }
   ],
   "source": [
    "#plt.figure(figsize = (15,10))\n",
    "cols=['work_year', 'experience_level', 'employment_type', 'job_title','company_location']\n",
    "plt.figure(figsize=(25, 20))\n",
    "for i, col in enumerate(cols):\n",
    "    plt.subplot(2,3  , i+1)\n",
    "    sns.regplot(x=col, y='salary_in_usd', data=ds_salary_new_important)\n",
    "    plt.title(\"%s vs Salairy In USD\" %(col))\n",
    "\n",
    "    "
   ]
  },
  {
   "cell_type": "markdown",
   "id": "f87a2754-948f-4b66-9acc-6449c64095d0",
   "metadata": {},
   "source": [
    "La visualisation des valeurs et la tableau des correlations à la question 13 prouvent qu'il n'y a aucune correlation entre les variables independantes et la variable dependante<br>\n",
    "Sans Correlation entre les variables dependantes et la variable independante, nous ne pouvons etablir un modele de regression efficace."
   ]
  }
 ],
 "metadata": {
  "kernelspec": {
   "display_name": "Python 3 (ipykernel)",
   "language": "python",
   "name": "python3"
  },
  "language_info": {
   "codemirror_mode": {
    "name": "ipython",
    "version": 3
   },
   "file_extension": ".py",
   "mimetype": "text/x-python",
   "name": "python",
   "nbconvert_exporter": "python",
   "pygments_lexer": "ipython3",
   "version": "3.11.5"
  }
 },
 "nbformat": 4,
 "nbformat_minor": 5
}
